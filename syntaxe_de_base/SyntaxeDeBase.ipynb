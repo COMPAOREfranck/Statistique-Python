{
 "cells": [
  {
   "cell_type": "markdown",
   "id": "0a2e0ac4",
   "metadata": {},
   "source": [
    "# OPÉRATION DE BASE"
   ]
  },
  {
   "cell_type": "markdown",
   "id": "ff32272b",
   "metadata": {},
   "source": [
    "Calculatrice"
   ]
  },
  {
   "cell_type": "code",
   "execution_count": 1,
   "id": "6261e1cc",
   "metadata": {},
   "outputs": [
    {
     "data": {
      "text/plain": [
       "8"
      ]
     },
     "execution_count": 1,
     "metadata": {},
     "output_type": "execute_result"
    }
   ],
   "source": [
    "5+3"
   ]
  },
  {
   "cell_type": "code",
   "execution_count": 2,
   "id": "f6f02257",
   "metadata": {},
   "outputs": [
    {
     "data": {
      "text/plain": [
       "19"
      ]
     },
     "execution_count": 2,
     "metadata": {},
     "output_type": "execute_result"
    }
   ],
   "source": [
    "7+3*4"
   ]
  },
  {
   "cell_type": "code",
   "execution_count": 3,
   "id": "5db6b9aa",
   "metadata": {},
   "outputs": [
    {
     "data": {
      "text/plain": [
       "6.666666666666667"
      ]
     },
     "execution_count": 3,
     "metadata": {},
     "output_type": "execute_result"
    }
   ],
   "source": [
    "20/3"
   ]
  },
  {
   "cell_type": "code",
   "execution_count": 4,
   "id": "e7c4f552",
   "metadata": {},
   "outputs": [
    {
     "data": {
      "text/plain": [
       "6"
      ]
     },
     "execution_count": 4,
     "metadata": {},
     "output_type": "execute_result"
    }
   ],
   "source": [
    "20//3"
   ]
  },
  {
   "cell_type": "markdown",
   "id": "5b074cdf",
   "metadata": {},
   "source": [
    "---------Affichage-----"
   ]
  },
  {
   "cell_type": "code",
   "execution_count": 5,
   "id": "d5bc319b",
   "metadata": {},
   "outputs": [
    {
     "name": "stdout",
     "output_type": "stream",
     "text": [
      "salut tout le monde\n"
     ]
    }
   ],
   "source": [
    "print(\"salut tout le monde\")"
   ]
  },
  {
   "cell_type": "code",
   "execution_count": 11,
   "id": "8bb50848",
   "metadata": {},
   "outputs": [
    {
     "name": "stdout",
     "output_type": "stream",
     "text": [
      "L'aire du cercle vaut : 452.16\n",
      "La circonference  du cercle vaut : 75.36\n"
     ]
    }
   ],
   "source": [
    "#calcul de l'aire\n",
    "\n",
    "pi=3.14\n",
    "r=12\n",
    "a=pi*(r**2)\n",
    "print( \"L'aire du cercle vaut : \" + str(a))\n",
    "\n",
    "#calcul de la circonférence\n",
    "c=pi*2*r\n",
    "print( \"La circonference  du cercle vaut : \" + str(c))"
   ]
  },
  {
   "cell_type": "code",
   "execution_count": null,
   "id": "a3a33010",
   "metadata": {},
   "outputs": [],
   "source": []
  },
  {
   "cell_type": "code",
   "execution_count": 13,
   "id": "c2eb4f7c",
   "metadata": {},
   "outputs": [
    {
     "name": "stdout",
     "output_type": "stream",
     "text": [
      "La vitesse moyenne vaut : 2.86\n"
     ]
    }
   ],
   "source": [
    "#calcul de la vitesse moyenne\n",
    "temps = 6.892\n",
    "distance= 19.7\n",
    "vitesse=round(distance/temps , 2) \n",
    "print( \"La vitesse moyenne vaut : \" + str(vitesse))"
   ]
  },
  {
   "cell_type": "code",
   "execution_count": 16,
   "id": "9f35ad6b",
   "metadata": {},
   "outputs": [
    {
     "name": "stdout",
     "output_type": "stream",
     "text": [
      "Saisir le nombre d'étudiants : 55\n",
      "vous avez au total 55 étudiants\n"
     ]
    }
   ],
   "source": [
    "#Opération de saisie par l'utilisateur \n",
    "\n",
    "nb= input( \"Saisir le nombre d'étudiants : \")\n",
    "print( \"vous avez au total \" + str(nb) + \" étudiants\")"
   ]
  },
  {
   "cell_type": "code",
   "execution_count": 17,
   "id": "989c2a89",
   "metadata": {},
   "outputs": [
    {
     "name": "stdout",
     "output_type": "stream",
     "text": [
      "3 8\n",
      "somme :  11\n",
      "-5 est la différence\n"
     ]
    }
   ],
   "source": [
    "a, b = 3, 8\n",
    "print(a, b)\n",
    "print(\"somme : \", a+b )\n",
    "print( a-b, \"est la différence\")"
   ]
  },
  {
   "cell_type": "markdown",
   "id": "bd33e264",
   "metadata": {},
   "source": [
    "# Structure de contrôle "
   ]
  },
  {
   "cell_type": "code",
   "execution_count": 19,
   "id": "d20b23b8",
   "metadata": {},
   "outputs": [
    {
     "name": "stdout",
     "output_type": "stream",
     "text": [
      " X est positif et paire\n"
     ]
    }
   ],
   "source": [
    "x=2\n",
    "\n",
    "if  x<0 :\n",
    "    print (\"X est négatif\")\n",
    "elif  x % 2 :\n",
    "    print(\" X est positif et impaire\")\n",
    "else :\n",
    "    print(\" X est positif et paire\")"
   ]
  },
  {
   "cell_type": "code",
   "execution_count": 21,
   "id": "bb414b5f",
   "metadata": {},
   "outputs": [
    {
     "name": "stdout",
     "output_type": "stream",
     "text": [
      "Saisissez un entier 257\n",
      "L'approximation de log2 de   257 est\n",
      "8\n"
     ]
    }
   ],
   "source": [
    "x= input(\"Saisissez un entier \")\n",
    "x=int(x)\n",
    "cpt=0\n",
    "print (\"L'approximation de log2 de  \" ,x, \"est\")\n",
    "while x>1 :\n",
    "    x=x//2\n",
    "    cpt=cpt+1\n",
    "print(cpt)"
   ]
  },
  {
   "cell_type": "code",
   "execution_count": 7,
   "id": "c8760f0a",
   "metadata": {},
   "outputs": [
    {
     "name": "stdout",
     "output_type": "stream",
     "text": [
      "Saisissez le nombre de second s'il vous plaît  5555555\n",
      "le nombre de seconde correspond exactement à  1543  heures 12  minutes 35  secondes \n"
     ]
    }
   ],
   "source": [
    "#Écrivez un programme qui a\"che les N premiers (N étant\n",
    "#fourni par l’utilisateur) termes de la table de multiplication par\n",
    "#7, en signalant au passage (à l’aide d’une astérisque) ceux qui\n",
    "#sont des multiples de 3.\n",
    "#Exemple : 14 21* 28 35 42* 49...\n",
    "\n",
    "\n",
    "\n",
    "y=input(\"Saisissez le nombre de second s'il vous plaît  \")\n",
    "y=int(y)\n",
    "m=0\n",
    "\n",
    "\n",
    "if  y%3600 ==0 :\n",
    "    \n",
    "    h=y//3600\n",
    "    print(\"le nombre de seconde correspond exactement à \", h, \" heures\")\n",
    "    \n",
    "    \n",
    "else :\n",
    "    h=y//3600\n",
    "    rest=y%3600\n",
    "    \n",
    "    if  rest < 60 :\n",
    "        print(\"le nombre de seconde correspond exactement à \", h, \" heures\", rest , \" secondes\")\n",
    "        \n",
    "    elif  rest % 60 ==0 :\n",
    "        m=rest//60\n",
    "        print(\"le nombre de seconde correspond exactement à \", h, \" heures\", m, \" minutes\")\n",
    "    else :\n",
    "        m=rest//60\n",
    "        rest2= rest%60\n",
    "        print(\"le nombre de seconde correspond exactement à \", h, \" heures\", m, \" minutes\", rest2, \" secondes \")\n",
    "        \n",
    "        "
   ]
  },
  {
   "cell_type": "code",
   "execution_count": 16,
   "id": "99bd8d78",
   "metadata": {},
   "outputs": [
    {
     "name": "stdout",
     "output_type": "stream",
     "text": [
      "Entrez le nombre : 5\n",
      "7\n",
      "14\n",
      "21*\n",
      "28\n",
      "35\n"
     ]
    }
   ],
   "source": [
    "#Écrivez un programme qui convertit un nombre entier de\n",
    "#secondes fourni au départ en un nombre d’heures, de minutes\n",
    "#et de secondes (vous pouvez utiliser l’opérateur modulo : %)\n",
    "\n",
    "\n",
    "n= int(input(\"Entrez le nombre : \"))\n",
    "\n",
    "for i in range(1,n+1):\n",
    "    m=i*7\n",
    "    if m%3==0 :\n",
    "        m=str(m)+\"*\"\n",
    "        \n",
    "    print(m)\n"
   ]
  },
  {
   "cell_type": "markdown",
   "id": "46631991",
   "metadata": {},
   "source": [
    "# Les Fonctions"
   ]
  },
  {
   "cell_type": "code",
   "execution_count": 35,
   "id": "814da885",
   "metadata": {},
   "outputs": [],
   "source": [
    "#fonction produit\n",
    "def  produit(x,y):\n",
    "    return x*y\n",
    "\n",
    "\n",
    "#fonction carré\n",
    "def  carré( x):\n",
    "    return x**2\n",
    "\n",
    "#fonction de calcule de la circonférence\n",
    "def  air (r):\n",
    "   \n",
    "    return 3.14*(r**2)\n",
    "\n",
    "#fonction de calcule de la circonférence\n",
    "def  circonférence (r):\n",
    " \n",
    "    return 3.14*2*r"
   ]
  },
  {
   "cell_type": "code",
   "execution_count": 32,
   "id": "c16fadd0",
   "metadata": {},
   "outputs": [
    {
     "data": {
      "text/plain": [
       "78.5"
      ]
     },
     "execution_count": 32,
     "metadata": {},
     "output_type": "execute_result"
    }
   ],
   "source": [
    "z=produit(5,5 )\n",
    "y=carré(6)\n",
    "air=air(5)\n",
    "air"
   ]
  },
  {
   "cell_type": "code",
   "execution_count": 21,
   "id": "01f695e5",
   "metadata": {},
   "outputs": [],
   "source": [
    "def scindeur(list):\n",
    "    n= len(list)\n",
    "    list_pair,  list_impair =[ ], [ ]\n",
    "    for element in list :\n",
    "        if element %2==0 :\n",
    "            list_pair.append(element)\n",
    "        else:\n",
    "            list_impair.append(element)\n",
    "    return list_pair, list_impair"
   ]
  },
  {
   "cell_type": "code",
   "execution_count": 22,
   "id": "767f57e8",
   "metadata": {},
   "outputs": [
    {
     "data": {
      "text/plain": [
       "([2, 4, 6], [1, 3, 5, 7])"
      ]
     },
     "execution_count": 22,
     "metadata": {},
     "output_type": "execute_result"
    }
   ],
   "source": [
    "a=[1, 2, 3, 4, 5, 6, 7]\n",
    "scindeur(a)"
   ]
  },
  {
   "cell_type": "code",
   "execution_count": null,
   "id": "be484200",
   "metadata": {},
   "outputs": [],
   "source": []
  }
 ],
 "metadata": {
  "kernelspec": {
   "display_name": "Python 3 (ipykernel)",
   "language": "python",
   "name": "python3"
  },
  "language_info": {
   "codemirror_mode": {
    "name": "ipython",
    "version": 3
   },
   "file_extension": ".py",
   "mimetype": "text/x-python",
   "name": "python",
   "nbconvert_exporter": "python",
   "pygments_lexer": "ipython3",
   "version": "3.11.3"
  }
 },
 "nbformat": 4,
 "nbformat_minor": 5
}
