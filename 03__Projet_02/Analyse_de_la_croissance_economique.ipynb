{
 "cells": [
  {
   "cell_type": "markdown",
   "id": "828c8c3d",
   "metadata": {},
   "source": [
    "Importation de Packages"
   ]
  },
  {
   "cell_type": "code",
   "execution_count": 1,
   "id": "da05f7ed",
   "metadata": {},
   "outputs": [],
   "source": [
    "import pandas as pd\n",
    "import numpy as np\n",
    "import matplotlib.pyplot as plt\n",
    "import seaborn as sns"
   ]
  },
  {
   "cell_type": "markdown",
   "id": "5b2d9047",
   "metadata": {},
   "source": [
    "Chargement de la base de données"
   ]
  },
  {
   "cell_type": "code",
   "execution_count": 2,
   "id": "1a3635d8",
   "metadata": {},
   "outputs": [],
   "source": [
    "pibMonde=pd.read_excel('API_NY.GDP.MKTP.CD_DS2_en_excel_v2_45090.xls', skiprows=3, index_col=0)"
   ]
  },
  {
   "cell_type": "code",
   "execution_count": null,
   "id": "d7ab11d8",
   "metadata": {},
   "outputs": [],
   "source": [
    "#visualisation des cinq (5) premieres lignes\n",
    "pibMonde.head(5)"
   ]
  },
  {
   "cell_type": "markdown",
   "id": "b2d882a7",
   "metadata": {},
   "source": [
    "Nettoyage de la base de données"
   ]
  },
  {
   "cell_type": "code",
   "execution_count": 4,
   "id": "87f9ef8e",
   "metadata": {},
   "outputs": [],
   "source": [
    "#Supppression des colones \n",
    "\n",
    "pibMonde = pibMonde.drop(pibMonde.loc[:, '1960':'1999'].columns, axis=1)\n",
    "pibMonde = pibMonde.drop(pibMonde.loc[:, '2021':'2023'].columns, axis=1)\n",
    "pibMonde.drop(['Indicator Name', 'Indicator Code', \"Country Code\"], axis=1, inplace=True)"
   ]
  },
  {
   "cell_type": "code",
   "execution_count": 5,
   "id": "fbad39e3",
   "metadata": {},
   "outputs": [],
   "source": [
    "#Transposition de la base de données afin de facilité les analyses\n",
    "pibMonde=np.transpose(pibMonde)"
   ]
  },
  {
   "cell_type": "code",
   "execution_count": 6,
   "id": "5423ff0f",
   "metadata": {},
   "outputs": [],
   "source": [
    "#recuperation de la liste de pays\n",
    "list_pays=pibMonde.columns.tolist()"
   ]
  },
  {
   "cell_type": "code",
   "execution_count": 7,
   "id": "b0f0ccbf",
   "metadata": {},
   "outputs": [],
   "source": [
    "#Suppresion des ensembles économique de la base\n",
    "pibMonde.drop([ 'Africa Eastern and Southern', 'World', 'Africa Western and Central',  'Arab World', 'United Arab Emirates', 'Central Europe and the Baltics', 'Channel Islands','East Asia & Pacific (excluding high income)', 'Early-demographic dividend', 'East Asia & Pacific', 'Europe & Central Asia (excluding high income)', 'Europe & Central Asia',  'Euro area', 'European Union', 'Fragile and conflict affected situations', 'High income', 'Hong Kong SAR, China', 'Heavily indebted poor countries (HIPC)', 'IBRD only', 'IDA & IBRD total', 'IDA total', 'IDA blend', 'IDA only', 'Latin America & Caribbean (excluding high income)', 'Latin America & Caribbean', 'Least developed countries: UN classification', 'Low income',  'Lower middle income', 'Low & middle income', 'Late-demographic dividend','Macao SAR, China', 'Middle East & North Africa', 'Middle income',  'Middle East & North Africa (excluding high income)',  'North America', 'OECD members',  'Other small states',  'Pre-demographic dividend',  'Pacific island small states', 'Post-demographic dividend', 'Sub-Saharan Africa (excluding high income)', 'South Sudan', 'Sub-Saharan Africa', 'Small states',  'East Asia & Pacific (IDA & IBRD countries)', 'Europe & Central Asia (IDA & IBRD countries)', 'Latin America & the Caribbean (IDA & IBRD countries)',  'Middle East & North Africa (IDA & IBRD countries)',  'South Asia (IDA & IBRD)', 'Sub-Saharan Africa (IDA & IBRD countries)',  'Upper middle income', 'South Africa'], axis=1, inplace=True)"
   ]
  },
  {
   "cell_type": "markdown",
   "id": "24b6ca11",
   "metadata": {},
   "source": [
    "Identification et traitement des ___données manaquantes___"
   ]
  },
  {
   "cell_type": "code",
   "execution_count": null,
   "id": "9bbfeb40",
   "metadata": {},
   "outputs": [],
   "source": [
    "#calcul de la somme des valeurs manquantes par pays\n",
    "NaN_Sum=pibMonde.isna().sum()\n",
    "NaN_Sum"
   ]
  },
  {
   "cell_type": "code",
   "execution_count": null,
   "id": "550edc55",
   "metadata": {},
   "outputs": [],
   "source": [
    "#calcul du pourcentage de valeurs manquantes\n",
    "NaPercent=NaN_Sum*100/len(pibMonde)\n",
    "#transformation en dataFrame\n",
    "NaPercent_table = pd.DataFrame({ 'Pourcentage': NaPercent.sort_values()})\n",
    "NaPercent_table"
   ]
  },
  {
   "cell_type": "code",
   "execution_count": null,
   "id": "033bff1a",
   "metadata": {},
   "outputs": [],
   "source": [
    "#Identification des pays ayant un taux de valeurs manquantes supérieur a 50%\n",
    "NaN_dlt= NaPercent_table[NaPercent_table['Pourcentage']>50]\n",
    "NaN_dlt"
   ]
  },
  {
   "cell_type": "code",
   "execution_count": 11,
   "id": "861a947b",
   "metadata": {},
   "outputs": [],
   "source": [
    "# Suppression des pays avec plus de 50% de valeurs manquantes\n",
    "columns_to_drop = NaPercent[NaPercent > 50].index\n",
    "pibMonde.drop(columns=columns_to_drop, inplace=True)\n"
   ]
  },
  {
   "cell_type": "code",
   "execution_count": 12,
   "id": "ec362e32",
   "metadata": {},
   "outputs": [],
   "source": [
    "#recuperation de la mediane de chaque pays\n",
    "pib_median=pibMonde.median()\n",
    "pib_median=pib_median.to_dict()"
   ]
  },
  {
   "cell_type": "code",
   "execution_count": 13,
   "id": "57f69ff4",
   "metadata": {},
   "outputs": [],
   "source": [
    "#Imputation des valeurs manquantes par la mediane\n",
    "pibMondevF=pibMonde.fillna(value=pib_median)"
   ]
  },
  {
   "cell_type": "code",
   "execution_count": null,
   "id": "482f22db",
   "metadata": {},
   "outputs": [],
   "source": [
    "#vérification\n",
    "pibMondevF.isna().sum()"
   ]
  },
  {
   "cell_type": "code",
   "execution_count": 15,
   "id": "7f72bf53",
   "metadata": {},
   "outputs": [],
   "source": [
    "# Enregistrement les données nettoyées dans un nouveau fichier\n",
    "pibMondevF.to_csv('donnees_propres.csv', index=False)"
   ]
  },
  {
   "cell_type": "markdown",
   "id": "57d76d98",
   "metadata": {},
   "source": [
    "Analyse"
   ]
  },
  {
   "cell_type": "code",
   "execution_count": null,
   "id": "18735d76",
   "metadata": {},
   "outputs": [],
   "source": [
    "#statistiques descriptives\n",
    "pibMondevF.describe()"
   ]
  },
  {
   "cell_type": "code",
   "execution_count": 17,
   "id": "ed7459a0",
   "metadata": {},
   "outputs": [],
   "source": [
    "#Récupération du PIB moyen sur la prriode 2000-2020 par pays\n",
    "pib_moyen=pibMonde.mean()\n",
    "#constitution en dataFrame\n",
    "pib_moyen = pd.DataFrame({ 'PIB Moyen': pib_moyen}).reset_index()\n"
   ]
  },
  {
   "cell_type": "code",
   "execution_count": 18,
   "id": "f040e28f",
   "metadata": {},
   "outputs": [],
   "source": [
    "pib_mondial=pibMonde.mean(axis=1)\n",
    "pib_mondial = pd.DataFrame({ 'Produit Interieur Brut': pib_mondial})\n",
    "pib_mondial.index.name = 'Année'"
   ]
  },
  {
   "cell_type": "code",
   "execution_count": null,
   "id": "6a31ffdf",
   "metadata": {},
   "outputs": [],
   "source": [
    "#Calcul de tendences centrales\n",
    "moyenne=pib_moyen[\"PIB Moyen\"].mean()\n",
    "mediane=pib_moyen[\"PIB Moyen\"].median()\n",
    "ecarttype=pib_moyen[\"PIB Moyen\"].std()\n",
    "\n",
    "\n",
    "\n",
    "\n",
    "print(f\"PIB Moyen de tous pays du monde = {np.round(moyenne, decimals=1)} $\")\n",
    "print(f\"PIB médian = {mediane} $\")\n",
    "print(f\"Ecart type = {ecarttype} $\")\n"
   ]
  },
  {
   "cell_type": "code",
   "execution_count": null,
   "id": "15ce950e",
   "metadata": {},
   "outputs": [],
   "source": [
    "#Pays ayant le PIB le plus élevé\n",
    "indice_max=pib_moyen[\"PIB Moyen\"].idxmax()\n",
    "pib_moyen.iloc[indice_max]"
   ]
  },
  {
   "cell_type": "code",
   "execution_count": null,
   "id": "462533ae",
   "metadata": {},
   "outputs": [],
   "source": [
    "#Pays ayant le PIB le faible\n",
    "indice_min=pib_moyen[\"PIB Moyen\"].idxmin()\n",
    "pib_moyen.iloc[indice_min]"
   ]
  },
  {
   "cell_type": "code",
   "execution_count": null,
   "id": "bfcff4cf",
   "metadata": {},
   "outputs": [],
   "source": [
    "#\n",
    "\n",
    "maximum=pib_moyen[\"PIB Moyen\"].max()\n",
    "minimum=pib_moyen[\"PIB Moyen\"].min()\n",
    "\n",
    "print(f\"le PIB moyen le plus élevé sur la periode = {maximum} $  \")\n",
    "print(f\"le PIB moyen le plus faible sur la periode = {minimum} $\")\n"
   ]
  },
  {
   "cell_type": "markdown",
   "id": "9db67fce",
   "metadata": {},
   "source": [
    "Visualisation"
   ]
  },
  {
   "cell_type": "code",
   "execution_count": null,
   "id": "4088bb44",
   "metadata": {},
   "outputs": [],
   "source": [
    "plt.figure(figsize=(12,10))                                               #la taille du graphique\n",
    "sns.lineplot(data=pib_mondial, x=\"Année\", y='Produit Interieur Brut', errorbar=None) \n",
    "\n",
    "plt.title('Produit Intérieur brut mondial sur la période 2000-2020 ')       #Définir un titre pour notre graphique\n",
    "plt.ylabel('PIB')                                                          #Définir un titre pour l'axe des ordonnées\n",
    "plt.xlabel('Année')                                                        #Définir un titre pour l'axe des abcisses\n",
    "plt.xticks(rotation=20)                                                   #position de l'intitulé des axes"
   ]
  },
  {
   "cell_type": "code",
   "execution_count": null,
   "id": "e971bd83",
   "metadata": {},
   "outputs": [],
   "source": [
    "#Constitution d'un dataframe pour le pays ayant le pib le plus élevé et le pays le plus faible\n",
    "maxMin= {\n",
    "    \n",
    "    \"pays\" : [\"United States\", \"Tuvalu\"],\n",
    "    \"PIB\": [maximum, minimum]\n",
    "}\n",
    "#Transformation du dictionnaire çi dessu en DataFrame\n",
    "maxMin=pd.DataFrame(maxMin)\n",
    "\n",
    "sns.barplot(data=maxMin, x=\"pays\", y='PIB', errorbar=None)"
   ]
  },
  {
   "cell_type": "code",
   "execution_count": null,
   "id": "bdf50786",
   "metadata": {},
   "outputs": [],
   "source": [
    "#Classement des pays en se basant sur le pib moyen de la periode 2000-2020\n",
    "pib_moyenSorted=pib_moyen.sort_values(by='PIB Moyen', ascending=False)\n",
    "pib_moyenSorted"
   ]
  },
  {
   "cell_type": "code",
   "execution_count": null,
   "id": "271b9a2c",
   "metadata": {},
   "outputs": [],
   "source": [
    "#visualisation des 10 premiers économies du monde\n",
    "plt.figure(figsize=(12,10))     \n",
    "sns.color_palette(\"bright6\")\n",
    "sns.barplot(data=pib_moyenSorted.iloc[:10, :], x=\"Country Name\", y='PIB Moyen', errorbar=None)\n",
    "plt.title('Les dix premiers économie du monde en terme de PIB Moyen sur la période 2000-2020')\n",
    "plt.xticks(rotation=20)"
   ]
  },
  {
   "cell_type": "code",
   "execution_count": null,
   "id": "b77083cd",
   "metadata": {},
   "outputs": [],
   "source": [
    "#visualisation des derniers économies en terme de pib moyen sur la période 2000-2020\n",
    "plt.figure(figsize=(12,10))     \n",
    "sns.barplot(data=pib_moyenSorted.iloc[194:206, :], x=\"Country Name\", y='PIB Moyen', errorbar=None)\n",
    "plt.title('Les dix derniers économie du monde en terme de PIB Moyen sur la période 2000-2020')\n",
    "plt.xticks(rotation=20)"
   ]
  },
  {
   "cell_type": "markdown",
   "id": "e3ae41f4",
   "metadata": {},
   "source": [
    "Afrique de l'Ouest\n",
    "\n",
    "1. Statistiques Descriptive"
   ]
  },
  {
   "cell_type": "code",
   "execution_count": 28,
   "id": "ada8eb16",
   "metadata": {},
   "outputs": [],
   "source": [
    "list_pays2=pibMondevF.columns.tolist()"
   ]
  },
  {
   "cell_type": "code",
   "execution_count": 29,
   "id": "ba896c46",
   "metadata": {},
   "outputs": [],
   "source": [
    "#Constitution de la base de donnée pour les pays de l'Afrique de l'ouest en supprima les pays intrus\n",
    "\n",
    "pays_Afr_Ouest=pibMondevF.drop(['Aruba', 'Chad' ,'Afghanistan', 'Angola', 'Albania', 'Andorra', 'Argentina', 'Armenia', 'American Samoa', 'Antigua and Barbuda', 'Australia', 'Austria', 'Azerbaijan', 'Burundi', 'Belgium','Bangladesh', 'Bulgaria', 'Bahrain', 'Bahamas, The', 'Bosnia and Herzegovina', 'Belarus', 'Belize', 'Bermuda', 'Bolivia', 'Brazil', 'Barbados', 'Brunei Darussalam', 'Bhutan', 'Botswana', 'Central African Republic', 'Canada', 'Switzerland', 'Chile', 'China', 'Cameroon', 'Congo, Dem. Rep.', 'Congo, Rep.', 'Colombia', 'Comoros','Costa Rica', 'Caribbean small states', 'Cuba', 'Cayman Islands', 'Cyprus', 'Czechia', 'Germany', 'Djibouti', 'Dominica', 'Denmark', 'Dominican Republic', 'Algeria', 'Ecuador', 'Egypt, Arab Rep.', 'Eritrea', 'Spain', 'Estonia', 'Ethiopia', 'Finland', 'Fiji', 'France', 'Faroe Islands', 'Micronesia, Fed. Sts.', 'Gabon', 'United Kingdom', 'Georgia','Equatorial Guinea', 'Greece', 'Grenada', 'Greenland', 'Guatemala', 'Guam', 'Guyana', 'Honduras', 'Croatia', 'Haiti', 'Hungary', 'Indonesia', 'Isle of Man', 'India', 'Ireland', 'Iran, Islamic Rep.', 'Iraq', 'Iceland', 'Israel', 'Italy', 'Jamaica', 'Jordan', 'Japan', 'Kazakhstan', 'Kenya', 'Kyrgyz Republic', 'Cambodia', 'Kiribati', 'St. Kitts and Nevis', 'Korea, Rep.', 'Kuwait', 'Lao PDR', 'Lebanon', 'Libya', 'St. Lucia', 'Liechtenstein', 'Sri Lanka', 'Lesotho', 'Lithuania', 'Luxembourg', 'Latvia', 'Morocco', 'Monaco', 'Moldova', 'Madagascar', 'Maldives', 'Mexico', 'Marshall Islands', 'North Macedonia', 'Malta', 'Myanmar', 'Montenegro', 'Mongolia', 'Northern Mariana Islands', 'Mozambique', 'Mauritania', 'Mauritius', 'Malawi', 'Malaysia', 'Namibia', 'New Caledonia','Nicaragua', 'Netherlands', 'Norway', 'Nepal', 'Nauru', 'New Zealand', 'Oman', 'Pakistan', 'Panama', 'Peru', 'Philippines', 'Palau', 'Papua New Guinea', 'Poland', 'Puerto Rico', 'Portugal', 'Paraguay', 'West Bank and Gaza', 'French Polynesia', 'Qatar', 'Romania', 'Russian Federation', 'Rwanda', 'South Asia', 'Saudi Arabia', 'Sudan', 'Singapore', 'Solomon Islands','El Salvador', 'San Marino', 'Serbia', 'Sao Tome and Principe', 'Suriname', 'Slovak Republic', 'Slovenia', 'Sweden', 'Eswatini', 'Seychelles', 'Syrian Arab Republic', 'Turks and Caicos Islands', 'Thailand', 'Tajikistan', 'Turkmenistan', 'Timor-Leste', 'Tonga', 'Trinidad and Tobago', 'Tunisia', 'Turkiye', 'Tuvalu', 'Tanzania', 'Uganda', 'Ukraine', 'Uruguay', 'United States', 'Uzbekistan', 'St. Vincent and the Grenadines', 'Venezuela, RB', 'Virgin Islands (U.S.)', 'Viet Nam', 'Vanuatu', 'Samoa', 'Kosovo', 'Yemen, Rep.', 'Zambia', 'Zimbabwe']\n",
    " , axis=1)\n"
   ]
  },
  {
   "cell_type": "code",
   "execution_count": 30,
   "id": "15da6864",
   "metadata": {},
   "outputs": [],
   "source": [
    "#Statisque descriptive des pays de l'afrique de l'ouest\n",
    "statdes=pays_Afr_Ouest.describe()\n",
    "statdes\n",
    "statdes.to_excel('statdesc.xlsx', index=False )"
   ]
  },
  {
   "cell_type": "code",
   "execution_count": 31,
   "id": "87d51ce4",
   "metadata": {},
   "outputs": [],
   "source": [
    "#Recupération du pib moyen par pays de l'afrique\n",
    "pib_moyen_AO=pays_Afr_Ouest.mean()\n",
    "pib_moyen_AO = pd.DataFrame({ 'PIB Moyen': pib_moyen_AO}).reset_index()"
   ]
  },
  {
   "cell_type": "code",
   "execution_count": null,
   "id": "41d221c1",
   "metadata": {},
   "outputs": [],
   "source": [
    "#Determination des tendences centrales\n",
    "moyenneAO=pib_moyen_AO[\"PIB Moyen\"].mean()\n",
    "medianeAO=pib_moyen_AO[\"PIB Moyen\"].median()\n",
    "\n",
    "print(f\"PIB Moyen de tous pays du monde = {np.round(moyenneAO, decimals=1)} $\")\n",
    "print(f\"PIB médian = {medianeAO} $\")\n"
   ]
  },
  {
   "cell_type": "code",
   "execution_count": null,
   "id": "c1d79432",
   "metadata": {},
   "outputs": [],
   "source": [
    "#pays ayant le pib maximum\n",
    "indice_maxAO=pib_moyen_AO[\"PIB Moyen\"].idxmax()\n",
    "pib_moyen_AO.iloc[indice_maxAO]"
   ]
  },
  {
   "cell_type": "code",
   "execution_count": null,
   "id": "f97eb236",
   "metadata": {},
   "outputs": [],
   "source": [
    "#pays ayant le pib minimum\n",
    "indice_minAO=pib_moyen_AO[\"PIB Moyen\"].idxmin()\n",
    "pib_moyen_AO.iloc[indice_minAO]"
   ]
  },
  {
   "cell_type": "code",
   "execution_count": null,
   "id": "2a0fc981",
   "metadata": {},
   "outputs": [],
   "source": [
    "#Classement des pays de l'afrique de l'ouest\n",
    "pib_moyen_AOsorted=pib_moyen_AO.sort_values(by='PIB Moyen', ascending=False)\n",
    "pib_moyen_AOsorted"
   ]
  },
  {
   "cell_type": "code",
   "execution_count": 36,
   "id": "23647302",
   "metadata": {},
   "outputs": [],
   "source": [
    "def calculer_taux_croissance(pib_annee1, pib_annee2):\n",
    "    return ((pib_annee2 - pib_annee1) / pib_annee1) * 100\n",
    "\n",
    "resultats = {}\n",
    "pays = pays_Afr_Ouest.columns\n",
    "\n",
    "for i in range(1, len(pays_Afr_Ouest)):  # Parcours des lignes (années)\n",
    "    annee_prec = pays_Afr_Ouest.index[i - 1]\n",
    "    annee_actuelle = pays_Afr_Ouest.index[i]\n",
    "    for pays_nom in pays:\n",
    "        pib_annee_prec = pays_Afr_Ouest.loc[annee_prec, pays_nom]\n",
    "        pib_annee_actuelle = pays_Afr_Ouest.loc[annee_actuelle, pays_nom]\n",
    "        taux_croissance = calculer_taux_croissance(pib_annee_prec, pib_annee_actuelle)\n",
    "        taux_croissance=np.round(taux_croissance, decimals=1)\n",
    "        if pays_nom not in resultats:\n",
    "            resultats[pays_nom] = []\n",
    "        resultats[pays_nom].append(taux_croissance)\n",
    "\n"
   ]
  },
  {
   "cell_type": "code",
   "execution_count": null,
   "id": "06208527",
   "metadata": {},
   "outputs": [],
   "source": [
    "# Création d'un DataFrame pour les résultats des taux de croissance\n",
    "taux_croissance_pib = pd.DataFrame(resultats, index=pays_Afr_Ouest.index[1:])\n",
    "taux_croissance_pib.index.name = 'Année'\n",
    "\n",
    "# Affichage des résultats\n",
    "print(\"Taux de croissance du PIB par pays :\")\n",
    "taux_croissance_pib"
   ]
  },
  {
   "cell_type": "markdown",
   "id": "0fc3fcaf",
   "metadata": {},
   "source": [
    "2. Visualisation"
   ]
  },
  {
   "cell_type": "code",
   "execution_count": null,
   "id": "949754b6",
   "metadata": {},
   "outputs": [],
   "source": [
    "#Visualisation du classement\n",
    "plt.figure(figsize=(12,10))\n",
    "sns.color_palette(\"Greens\")\n",
    "sns.barplot(data=pib_moyen_AOsorted, x=\"Country Name\", y='PIB Moyen', errorbar=None)\n",
    "plt.title('Afrique subsaharienne en terme de PIB Moyen sur la période 2000-2020')\n",
    "plt.xticks(rotation=20)"
   ]
  },
  {
   "cell_type": "code",
   "execution_count": null,
   "id": "bf0c0875",
   "metadata": {},
   "outputs": [],
   "source": [
    "#Visualisation de l'évolution du pib \n",
    "plt.figure(figsize=(12,6))\n",
    "plt.subplot(2, 2, 1)  \n",
    "sns.lineplot(data=pays_Afr_Ouest['Nigeria'])\n",
    "plt.title('Evolution du PIB du Nigéria')\n",
    "plt.xticks(rotation=30)\n",
    "plt.xlabel('Année')\n",
    "plt.ylabel('PIB')\n",
    "\n",
    "\n",
    "plt.subplot(2, 2, 2)  \n",
    "sns.lineplot(data=pays_Afr_Ouest['Cote d\\'Ivoire'])\n",
    "plt.title('Evolution du PIB de la Cote d\\'Ivoire')\n",
    "plt.xticks(rotation=30)\n",
    "plt.xlabel('Année')\n",
    "plt.ylabel('PIB')\n",
    "\n",
    "\n",
    "plt.subplot(2, 2, 3)  \n",
    "sns.lineplot(data=pays_Afr_Ouest['Burkina Faso'])\n",
    "plt.title('Evolution du PIB du Burkina Faso')\n",
    "plt.xticks(rotation=30)\n",
    "plt.xlabel('Année')\n",
    "plt.ylabel('PIB')\n",
    "\n",
    "plt.subplot(2, 2, 4)  \n",
    "sns.lineplot(data=pays_Afr_Ouest['Guinea-Bissau'])\n",
    "plt.title('Evolution du PIB de la Guinea-Bissau')\n",
    "plt.xticks(rotation=30)\n",
    "plt.xlabel('Année')\n",
    "plt.ylabel('PIB')\n",
    "\n",
    "plt.subplot(2, 2, 4)  \n",
    "sns.lineplot(data=pays_Afr_Ouest['Ghana'])\n",
    "plt.title('Evolution du PIB du Ghana')\n",
    "plt.xticks(rotation=30)\n",
    "plt.xlabel('Année')\n",
    "plt.ylabel('PIB')\n",
    "\n",
    "\n",
    "plt.subplot(2, 2, 4)  \n",
    "sns.lineplot(data=pays_Afr_Ouest['Benin'])\n",
    "plt.title('Evolution du PIB du Benin')\n",
    "plt.xticks(rotation=30)\n",
    "plt.xlabel('Année')\n",
    "plt.ylabel('PIB')\n",
    "\n",
    "plt.tight_layout() "
   ]
  },
  {
   "cell_type": "code",
   "execution_count": null,
   "id": "3e63c534",
   "metadata": {},
   "outputs": [],
   "source": [
    "#calcul de la Dispersion du pib Afrique subsaharienne sur la période 2000-2020\n",
    "pib_ecartt_AO=pays_Afr_Ouest.std()\n",
    "pib_ecartt_AO = pd.DataFrame({ 'Ecart type du PIB': pib_ecartt_AO}).reset_index()\n"
   ]
  },
  {
   "cell_type": "code",
   "execution_count": null,
   "id": "aab933ff",
   "metadata": {},
   "outputs": [],
   "source": [
    "#visualisation de la dispersion\n",
    "plt.figure(figsize=(12,10))     \n",
    "sns.color_palette(\"Greens\")\n",
    "sns.barplot(data=pib_ecartt_AO, x=\"Country Name\", y='Ecart type du PIB', errorbar=None)\n",
    "plt.title('Dispersion du pib Afrique subsaharienne sur la période 2000-2020')\n",
    "plt.xticks(rotation=20)"
   ]
  },
  {
   "cell_type": "code",
   "execution_count": null,
   "id": "d68a7ed4",
   "metadata": {},
   "outputs": [],
   "source": [
    "plt.figure(figsize=(12, 6))  # Taille de la figure en pouces (largeur, hauteur)\n",
    "\n",
    "\n",
    "\n",
    "plt.subplot(2, 2, 1)       \n",
    "sns.color_palette(\"Greens\")\n",
    "sns.lineplot(data=taux_croissance_pib[\"Burkina Faso\"])\n",
    "plt.title('taux de croissance du Burkina Faso')\n",
    "plt.xticks(rotation=25)\n",
    "plt.xlabel('Année')\n",
    "plt.ylabel('Taux de croissance')\n",
    "# Premier subplot (1 ligne, 2 colonnes, premier sous-plot)\n",
    "plt.subplot(2, 2, 2)  # (rows, columns, panel number)\n",
    "sns.color_palette(\"Greens\")\n",
    "sns.lineplot(data=taux_croissance_pib[\"Ghana\"])\n",
    "plt.title('taux de croissance Ghana')\n",
    "plt.xticks(rotation=25)\n",
    "plt.xlabel('Année')\n",
    "plt.ylabel('Taux de croissance')\n",
    "# Deuxième subplot (1 ligne, 2 colonnes, deuxième sous-plot)\n",
    "plt.subplot(2, 2, 3)\n",
    "sns.color_palette(\"Greens\")\n",
    "sns.lineplot(data=taux_croissance_pib[\"Guinea-Bissau\"])\n",
    "plt.title('taux de croissance de la Guinea-Bissau')\n",
    "plt.xticks(rotation=25)\n",
    "plt.xlabel('Année')\n",
    "plt.ylabel('Taux de croissance')\n",
    "\n",
    "\n",
    "plt.subplot(2, 2, 4) \n",
    "sns.color_palette(\"Greens\")\n",
    "sns.lineplot(data=taux_croissance_pib[\"Nigeria\"])\n",
    "plt.title('taux de croissance du Nigeria')\n",
    "plt.xticks(rotation=25)\n",
    "plt.xlabel('Année')\n",
    "plt.ylabel('Taux de croissance')\n",
    "# Ajustements supplémentaires de la mise en page\n",
    "plt.tight_layout()  # Ajustement automatique des sous-graphiques pour éviter les chevauchements\n",
    "\n",
    "# Affichage de la figure\n",
    "plt.show()\n"
   ]
  },
  {
   "cell_type": "code",
   "execution_count": null,
   "id": "737f7044",
   "metadata": {},
   "outputs": [],
   "source": [
    "plt.figure(figsize=(12, 10))\n",
    "sns.color_palette(\"Greens\")\n",
    "sns.lineplot(data=taux_croissance_pib.iloc[:, [1,2,11,7]])\n",
    "plt.title('taux de croissance ')\n",
    "plt.xticks(rotation=25)\n",
    "plt.xlabel('Année')\n",
    "plt.ylabel('Taux de croissance')"
   ]
  },
  {
   "cell_type": "markdown",
   "id": "fb3a7ac7",
   "metadata": {},
   "source": [
    "Afrique de l'Ouest zone franc CFA\n",
    "\n",
    "1. Statistiques Descriptive"
   ]
  },
  {
   "cell_type": "code",
   "execution_count": 46,
   "id": "5e22e378",
   "metadata": {},
   "outputs": [],
   "source": [
    "#recupération de la list pays de l'Afrique de l'Ouest\n",
    "list3=pays_Afr_Ouest.columns.tolist()"
   ]
  },
  {
   "cell_type": "code",
   "execution_count": 47,
   "id": "70e07af4",
   "metadata": {},
   "outputs": [],
   "source": [
    "#base de donnée des pays de la zone cfa(xof)\n",
    "pays_AO_cfa=pays_Afr_Ouest.drop([ 'Cabo Verde', 'Ghana', 'Guinea', 'Gambia, The', 'Liberia',  'Nigeria', 'Sierra Leone'], axis=1)"
   ]
  },
  {
   "cell_type": "code",
   "execution_count": null,
   "id": "032174c5",
   "metadata": {},
   "outputs": [],
   "source": [
    "#apperçu de la base\n",
    "pays_AO_cfa.head(2)"
   ]
  },
  {
   "cell_type": "code",
   "execution_count": 49,
   "id": "54065aee",
   "metadata": {},
   "outputs": [],
   "source": [
    "#pib total de la zone cfa(xof) par année (sommation du pib de tous les pays)\n",
    "pib_global_cfa=pays_AO_cfa.sum(axis=1)\n",
    "pib_global_cfa=pd.DataFrame({ 'PIB Global Z_Cfa': pib_global_cfa})"
   ]
  },
  {
   "cell_type": "code",
   "execution_count": null,
   "id": "67574843",
   "metadata": {},
   "outputs": [],
   "source": [
    "\n",
    "taux_croissance_Cfa=taux_croissance_pib.drop([ 'Cabo Verde', 'Ghana', 'Guinea', 'Gambia, The', 'Liberia',  'Nigeria', 'Sierra Leone'], axis=1)\n",
    "\n",
    "taux_croissance_Cfa"
   ]
  },
  {
   "cell_type": "markdown",
   "id": "b4911eb5",
   "metadata": {},
   "source": [
    "2. Visualisation"
   ]
  },
  {
   "cell_type": "code",
   "execution_count": null,
   "id": "8f69d58a",
   "metadata": {},
   "outputs": [],
   "source": [
    "#Visualisation de l'évolution du pib du Nigéria qui présente des caractéristiques \n",
    "plt.figure(figsize=(12,10))\n",
    "plt.subplot(4, 2, 1)  \n",
    "sns.lineplot(data=pays_Afr_Ouest['Niger'])\n",
    "plt.title('Evolution du PIB du Niger')\n",
    "plt.xticks(rotation=30)\n",
    "plt.xlabel('Année')\n",
    "plt.ylabel('PIB')\n",
    "\n",
    "\n",
    "plt.subplot(4, 2, 2)   \n",
    "sns.lineplot(data=pays_Afr_Ouest['Cote d\\'Ivoire'])\n",
    "plt.title('Evolution du PIB de la Cote d\\'Ivoire')\n",
    "plt.xticks(rotation=30)\n",
    "plt.xlabel('Année')\n",
    "plt.ylabel('PIB')\n",
    "\n",
    "\n",
    "plt.subplot(4, 2, 3)   \n",
    "sns.lineplot(data=pays_Afr_Ouest['Burkina Faso'])\n",
    "plt.title('Evolution du PIB du Burkina Faso')\n",
    "plt.xticks(rotation=30)\n",
    "plt.xlabel('Année')\n",
    "plt.ylabel('PIB')\n",
    "\n",
    "plt.subplot(4, 2, 4)  \n",
    "sns.lineplot(data=pays_Afr_Ouest['Guinea-Bissau'])\n",
    "plt.title('Evolution du PIB de la Guinea-Bissau')\n",
    "plt.xticks(rotation=30)\n",
    "plt.xlabel('Année')\n",
    "plt.ylabel('PIB')\n",
    "\n",
    "plt.subplot(4, 2, 5)  \n",
    "sns.lineplot(data=pays_Afr_Ouest['Togo'])\n",
    "plt.title('Evolution du PIB du Togo')\n",
    "plt.xticks(rotation=30)\n",
    "plt.xlabel('Année')\n",
    "plt.ylabel('PIB')\n",
    "\n",
    "\n",
    "plt.subplot(4, 2, 6)  \n",
    "sns.lineplot(data=pays_Afr_Ouest['Benin'])\n",
    "plt.title('Evolution du PIB du Benin')\n",
    "plt.xticks(rotation=30)\n",
    "plt.xlabel('Année')\n",
    "plt.ylabel('PIB')\n",
    "\n",
    "plt.subplot(4, 2, 7)  \n",
    "sns.lineplot(data=pays_Afr_Ouest['Mali'])\n",
    "plt.title('Evolution du PIB du Mali')\n",
    "plt.xticks(rotation=30)\n",
    "plt.xlabel('Année')\n",
    "plt.ylabel('PIB')\n",
    "\n",
    "\n",
    "plt.subplot(4, 2, 8)  \n",
    "sns.lineplot(data=pays_Afr_Ouest['Senegal'])\n",
    "plt.title('Evolution du PIB du Senegal')\n",
    "plt.xticks(rotation=30)\n",
    "plt.xlabel('Année')\n",
    "plt.ylabel('PIB')\n",
    "\n",
    "plt.tight_layout() "
   ]
  },
  {
   "cell_type": "code",
   "execution_count": null,
   "id": "ab416ae9",
   "metadata": {},
   "outputs": [],
   "source": [
    "#Visualisation de l'évolution du pib du Nigéria qui présente des caractéristiques \n",
    "plt.figure(figsize=(12,10))\n",
    "plt.subplot(4, 2, 1)  \n",
    "sns.barplot(data=taux_croissance_Cfa['Niger'])\n",
    "plt.title('Taux de croissance du PIB du Niger')\n",
    "plt.xticks(rotation=30)\n",
    "plt.xlabel('Année')\n",
    "plt.ylabel('Taux de croissance')\n",
    "\n",
    "\n",
    "plt.subplot(4, 2, 2)   \n",
    "sns.barplot(data=taux_croissance_Cfa['Cote d\\'Ivoire'])\n",
    "plt.title('Taux de croissance du PIB de la Cote d\\'Ivoire')\n",
    "plt.xticks(rotation=30)\n",
    "plt.xlabel('Année')\n",
    "plt.ylabel('Taux de croissance')\n",
    "\n",
    "\n",
    "plt.subplot(4, 2, 3)   \n",
    "sns.barplot(data=taux_croissance_Cfa['Burkina Faso'])\n",
    "plt.title('Taux de croissance du PIB du Burkina Faso')\n",
    "plt.xticks(rotation=30)\n",
    "plt.xlabel('Année')\n",
    "plt.ylabel('Taux de croissance')\n",
    "\n",
    "plt.subplot(4, 2, 4)  \n",
    "sns.barplot(data=taux_croissance_Cfa['Guinea-Bissau'])\n",
    "plt.title('Taux de croissance du PIB de la Guinea-Bissau')\n",
    "plt.xticks(rotation=30)\n",
    "plt.xlabel('Année')\n",
    "plt.ylabel('Taux de croissance')\n",
    "\n",
    "plt.subplot(4, 2, 5)  \n",
    "sns.barplot(data=taux_croissance_Cfa['Togo'])\n",
    "plt.title('Taux de croissance du PIB du Togo')\n",
    "plt.xticks(rotation=30)\n",
    "plt.xlabel('Année')\n",
    "plt.ylabel('Taux de croissance')\n",
    "\n",
    "\n",
    "plt.subplot(4, 2, 6)  \n",
    "sns.barplot(data=taux_croissance_Cfa['Benin'])\n",
    "plt.title('Taux de croissance du PIB du Benin')\n",
    "plt.xticks(rotation=30)\n",
    "plt.xlabel('Année')\n",
    "plt.ylabel('Taux de croissance')\n",
    "\n",
    "plt.subplot(4, 2, 7)  \n",
    "sns.barplot(data=taux_croissance_Cfa['Mali'])\n",
    "plt.title('Taux de croissance du PIB du Mali')\n",
    "plt.xticks(rotation=30)\n",
    "plt.xlabel('Année')\n",
    "plt.ylabel('Taux de croissance')\n",
    "\n",
    "\n",
    "plt.subplot(4, 2, 8)  \n",
    "sns.barplot(data=taux_croissance_Cfa['Senegal'])\n",
    "plt.title('Taux de croissance du PIB du Senegal')\n",
    "plt.xticks(rotation=30)\n",
    "plt.xlabel('Année')\n",
    "plt.ylabel('Taux de croissance')\n",
    "\n",
    "plt.tight_layout() "
   ]
  },
  {
   "cell_type": "code",
   "execution_count": null,
   "id": "9c4ece1b",
   "metadata": {},
   "outputs": [],
   "source": [
    "\n",
    "#visualisation de l'évolution du pib total de la zone cfa(xof)\n",
    "plt.figure(figsize=(10,6))     \n",
    "sns.color_palette(\"Greens\")\n",
    "sns.lineplot(data=pib_global_cfa)\n",
    "plt.title('PIB Total des pays de la zone cfa(xof) par année')\n",
    "plt.xticks(rotation=20)"
   ]
  },
  {
   "cell_type": "markdown",
   "id": "16104613",
   "metadata": {},
   "source": [
    "Afrique de l'Ouest : Pays n'appartenant pas à la zone franc CFA\n",
    "\n",
    "1. Statistiques Descriptive"
   ]
  },
  {
   "cell_type": "code",
   "execution_count": 54,
   "id": "ea42682b",
   "metadata": {},
   "outputs": [],
   "source": [
    "#liste de pays de la zone cfa(xof)\n",
    "list4=pays_AO_cfa.columns.tolist()"
   ]
  },
  {
   "cell_type": "code",
   "execution_count": 55,
   "id": "272a54c6",
   "metadata": {},
   "outputs": [],
   "source": [
    "#base de donnée des pays de l'afrique de l'ouest n'appartenant pas à la zone cfa\n",
    "pays_AO_NonCFA=pays_Afr_Ouest.drop(['Benin', 'Burkina Faso', \"Cote d'Ivoire\", 'Guinea-Bissau', 'Mali', 'Niger', 'Senegal', 'Togo'], axis=1)"
   ]
  },
  {
   "cell_type": "code",
   "execution_count": 56,
   "id": "7ce078bb",
   "metadata": {},
   "outputs": [],
   "source": [
    "#pib total de des pays de l'afrique de l'ouest n'appartenant pas à la zone cfa par année (sommation du pib de tous les pays)\n",
    "pib_global_Non_cfa=pays_AO_NonCFA.sum(axis=1)\n",
    "pib_global_Non_cfa=pd.DataFrame({ 'PIB Global Z_nonCfa': pib_global_Non_cfa})"
   ]
  },
  {
   "cell_type": "markdown",
   "id": "d359328d",
   "metadata": {},
   "source": [
    "2. Visualisation"
   ]
  },
  {
   "cell_type": "code",
   "execution_count": null,
   "id": "df56fc6c",
   "metadata": {},
   "outputs": [],
   "source": [
    "pib_global_AO=pd.concat([pib_global_cfa, pib_global_Non_cfa], axis=1)\n",
    "pib_global_AO.index.name='Année'\n",
    "pib_global_AO"
   ]
  },
  {
   "cell_type": "code",
   "execution_count": 58,
   "id": "466ca8b4",
   "metadata": {},
   "outputs": [],
   "source": [
    "pays_AO_NonCFA_sansNgr=pays_Afr_Ouest.drop(['Benin', 'Burkina Faso', 'Nigeria',\"Cote d'Ivoire\", 'Guinea-Bissau', 'Mali', 'Niger', 'Senegal', 'Togo'], axis=1)"
   ]
  },
  {
   "cell_type": "code",
   "execution_count": 59,
   "id": "b0371754",
   "metadata": {},
   "outputs": [],
   "source": [
    "pib_global_Non_cfa_sansNgr=pays_AO_NonCFA_sansNgr.sum(axis=1)\n",
    "pib_global_Non_cfa_sansNgr=pd.DataFrame({ 'PIB Global Z_nonCfa_sansNgr': pib_global_Non_cfa_sansNgr})\n",
    "\n",
    "pib_global_AO_sansNgr=pd.concat([pib_global_cfa, pib_global_Non_cfa_sansNgr], axis=1)\n"
   ]
  },
  {
   "cell_type": "code",
   "execution_count": null,
   "id": "7d2b9653",
   "metadata": {},
   "outputs": [],
   "source": [
    "pib_global_AO_sansNgr"
   ]
  },
  {
   "cell_type": "code",
   "execution_count": null,
   "id": "4f886a7c",
   "metadata": {},
   "outputs": [],
   "source": [
    "\n",
    "plt.figure(figsize=(10,6))     \n",
    "sns.color_palette(\"Greens\")\n",
    "sns.lineplot(data=pib_global_Non_cfa_sansNgr)\n",
    "plt.title('PIB Total des pays appartenant pas à la zone franc sans le Nigéria par année')\n",
    "plt.xticks(rotation=20)\n",
    "\n",
    "\n",
    "\n",
    "\n",
    "plt.figure(figsize=(10,6))     \n",
    "sns.color_palette(\"Greens\")\n",
    "sns.lineplot(data=pib_global_AO_sansNgr)\n",
    "plt.title('Comparaison de l\\'évolution du PIB des pays de zone franc et les pays non cfa')\n",
    "plt.xticks(rotation=20)\n",
    "plt.grid(True)"
   ]
  },
  {
   "cell_type": "code",
   "execution_count": null,
   "id": "dfa134f3",
   "metadata": {},
   "outputs": [],
   "source": [
    "plt.figure(figsize=(16,8))   \n",
    "\n",
    "plt.subplot(2,2,1)\n",
    "sns.color_palette(\"Greens\")\n",
    "sns.lineplot(data=pib_global_AO)\n",
    "plt.title('Comparaison de l\\'évolution du PIB des pays de zone franc et les pays non cfa')\n",
    "plt.xticks(rotation=30)\n",
    "\n",
    "\n",
    "\n",
    "\n",
    "plt.subplot(2, 2, 2)\n",
    "sns.color_palette(\"Greens\")\n",
    "sns.lineplot(data=pib_global_AO_sansNgr)\n",
    "plt.title('Comparaison de l\\'évolution du PIB des pays de zone franc et les pays non cfa(sans Nigéria)')\n",
    "plt.xticks(rotation=30)\n",
    "plt.xlabel('Année')\n",
    "plt.ylabel('PIB')\n",
    "plt.grid(True)\n",
    "\n",
    "plt.subplot(2, 2, 3) \n",
    "sns.lineplot(data=pays_Afr_Ouest['Nigeria'])\n",
    "plt.title('Evolution du PIB du Nigeria')\n",
    "plt.xticks(rotation=30)\n",
    "plt.xlabel('Année')\n",
    "plt.ylabel('PIB')\n",
    "\n",
    "plt.tight_layout() "
   ]
  },
  {
   "cell_type": "markdown",
   "id": "fb75eebf",
   "metadata": {},
   "source": [
    "Analyse de Correlation"
   ]
  },
  {
   "cell_type": "code",
   "execution_count": null,
   "id": "6f8b47c0",
   "metadata": {},
   "outputs": [],
   "source": [
    "corr_matrix = taux_croissance_pib[taux_croissance_pib.columns[0:15]].corr()\n",
    "\n",
    "plt.figure(figsize=(12,10))     \n",
    "sns.color_palette(\"Greens\")\n",
    "sns.heatmap(corr_matrix, annot=True, cmap='YlGnBu')\n",
    "plt.title('Matrix de correlation du taux de croissance')\n",
    "plt.xticks(rotation=30)\n"
   ]
  }
 ],
 "metadata": {
  "kernelspec": {
   "display_name": "Python 3 (ipykernel)",
   "language": "python",
   "name": "python3"
  },
  "language_info": {
   "codemirror_mode": {
    "name": "ipython",
    "version": 3
   },
   "file_extension": ".py",
   "mimetype": "text/x-python",
   "name": "python",
   "nbconvert_exporter": "python",
   "pygments_lexer": "ipython3",
   "version": "3.10.11"
  }
 },
 "nbformat": 4,
 "nbformat_minor": 5
}
