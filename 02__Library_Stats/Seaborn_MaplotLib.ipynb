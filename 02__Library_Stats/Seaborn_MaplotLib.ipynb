{
 "cells": [
  {
   "cell_type": "markdown",
   "id": "7a2551ea",
   "metadata": {},
   "source": [
    "# PACKAGES "
   ]
  },
  {
   "cell_type": "code",
   "execution_count": null,
   "id": "8e59effd",
   "metadata": {},
   "outputs": [],
   "source": [
    "import pandas as pd \n",
    "import numpy as np\n",
    "import seaborn as sbn\n",
    "import matplotlib.pyplot as plt"
   ]
  },
  {
   "cell_type": "markdown",
   "id": "eefd223a",
   "metadata": {},
   "source": [
    "La visualisation des avec python est très simple et élégant à la fois \n",
    ".SEABORN est le célèbre module de python pour la visualisation, il s'integre bien avec Matplotlib pour des graphique plus informatif"
   ]
  },
  {
   "cell_type": "markdown",
   "id": "0cdd04e5",
   "metadata": {},
   "source": [
    "# Chargement de la base de données"
   ]
  },
  {
   "cell_type": "code",
   "execution_count": null,
   "id": "7d14ac70",
   "metadata": {},
   "outputs": [],
   "source": [
    "countries = pd.read_excel('pays_afrique_complet.xlsx')\n",
    "countries.head(10)"
   ]
  },
  {
   "cell_type": "markdown",
   "id": "1520fd05",
   "metadata": {},
   "source": [
    "# Nuage de point"
   ]
  },
  {
   "cell_type": "code",
   "execution_count": null,
   "id": "e85250f8",
   "metadata": {},
   "outputs": [],
   "source": [
    "sbn.scatterplot(data=countries, x='Population', y='Superficie' , hue='langue', size='pib')"
   ]
  },
  {
   "cell_type": "code",
   "execution_count": null,
   "id": "7300bd19",
   "metadata": {},
   "outputs": [],
   "source": [
    "sbn.scatterplot(data=countries, x='Population', y='pib' , hue='langue', size='pib')"
   ]
  },
  {
   "cell_type": "markdown",
   "id": "415fa8d5",
   "metadata": {},
   "source": [
    "# Diagramme en Barre(barplot)"
   ]
  },
  {
   "cell_type": "code",
   "execution_count": null,
   "id": "f3d7c9c6",
   "metadata": {},
   "outputs": [],
   "source": [
    "plt.figure(figsize=(12,12))                                                                                   #la taille du graphique\n",
    "sbn.barplot(data=countries, x=\"langue\", y='pib', errorbar=None) \n",
    "\n",
    "plt.title('PIB en fonction de la langue')                                                             #Définir un titre pour notre graphique\n",
    "plt.ylabel('Produit Intérieur brut')                                                                     #Définir un titre pour l'axe des ordonnées\n",
    "plt.xlabel('Produit Intérieur brut')                                                                     #Définir un titre pour l'axe des abcisses\n"
   ]
  },
  {
   "cell_type": "markdown",
   "id": "b34275a5",
   "metadata": {},
   "source": [
    "# Boite à Moustaches (boxplot)"
   ]
  },
  {
   "cell_type": "code",
   "execution_count": null,
   "id": "1bf2e9d9",
   "metadata": {},
   "outputs": [],
   "source": [
    "#recupération des données \n",
    "\n",
    "countries_Anglais=countries[(countries['langue']=='Anglais')|(countries['langue']=='Français')|(countries['langue']=='Arabe')]\n",
    "\n",
    "\n",
    "sbn.boxplot(data=countries_Anglais)"
   ]
  },
  {
   "cell_type": "markdown",
   "id": "dd0d7fbd",
   "metadata": {},
   "source": [
    "# Histogramme"
   ]
  },
  {
   "cell_type": "code",
   "execution_count": null,
   "id": "93e497f6",
   "metadata": {},
   "outputs": [],
   "source": [
    "plt.figure(figsize=(12,6))                                                                                 #la taille du graphique\n",
    "sbn.histplot(data=countries, x=\"langue\") \n",
    "\n",
    "plt.title('Histogramme des langue')                                                              #Définir un titre pour notre graphique\n",
    "plt.xlabel('Langue')                                                                                           #Définir un titre pour l'axe des abcisses"
   ]
  },
  {
   "cell_type": "markdown",
   "id": "1ca18f8b",
   "metadata": {},
   "source": [
    "# Pairplot "
   ]
  },
  {
   "cell_type": "markdown",
   "id": "0d0ac9b2",
   "metadata": {},
   "source": [
    "Très utile pour une analyse bivariée, ce type de graphique donne un appercu sur la corrélation des variable de base de données deux à deux"
   ]
  },
  {
   "cell_type": "code",
   "execution_count": null,
   "id": "1b325cab",
   "metadata": {},
   "outputs": [],
   "source": [
    "sbn.pairplot(countries, hue='langue')"
   ]
  },
  {
   "cell_type": "markdown",
   "id": "953e9fc7",
   "metadata": {},
   "source": [
    "# Courbe(Lineplot)"
   ]
  },
  {
   "cell_type": "code",
   "execution_count": null,
   "id": "21691f8e",
   "metadata": {},
   "outputs": [],
   "source": [
    "#génerer des valeur aléatoire \n",
    "\n",
    "rs = np.random.RandomState(365)                                                      \n",
    "values = rs.randn(365, 4).cumsum(axis=0)\n",
    "dates = pd.date_range(\"1 1 2016\", periods=365, freq=\"D\")\n",
    "\n",
    "#dataframe\n",
    "data = pd.DataFrame(values, dates, columns=[\"A\", \"B\", \"C\", \"D\"])"
   ]
  },
  {
   "cell_type": "code",
   "execution_count": null,
   "id": "5724dae4",
   "metadata": {},
   "outputs": [],
   "source": [
    "sbn.set_theme(style=\"white\", context=\"talk\")                                  #Arrière plan de notre grphique\n",
    "plt.figure(figsize=(12,6)) \n",
    "sbn.lineplot(data=data, palette=\"tab10\", linewidth=1.5)"
   ]
  },
  {
   "cell_type": "markdown",
   "id": "6c6e8acd",
   "metadata": {},
   "source": [
    "# Diagramme en barres "
   ]
  },
  {
   "cell_type": "code",
   "execution_count": null,
   "id": "3b8b5777",
   "metadata": {},
   "outputs": [],
   "source": [
    "countriesbyLangue= countries.groupby(\"langue\")[\"Population\"].sum().reset_index()\n",
    "countriesbyLangue"
   ]
  },
  {
   "cell_type": "code",
   "execution_count": null,
   "id": "3e7b361e",
   "metadata": {},
   "outputs": [],
   "source": [
    "plt.figure(figsize=(12,12))                                                                     #la taille du graphique\n",
    "sn.barplot(data=countriesbyLangue, x=\"langue\", y='Population', errorbar=None) \n",
    "\n",
    "plt.title('Population en fonction de la langue')                                #Définir un titre pour notre graphique\n",
    "plt.ylabel('Population')                                                                           #Définir un titre pour l'axe des ordonnées\n",
    "plt.xlabel('Langue')       "
   ]
  },
  {
   "cell_type": "code",
   "execution_count": null,
   "id": "90d31400",
   "metadata": {},
   "outputs": [],
   "source": [
    "#Diagrammes en barres pour représenter les 5 Pays les plus\n",
    "#peuplés. Faites de même pour les 5 pays avec les PIB les plus élevés.\n",
    "\n",
    "#La procedure consist a trié les pays en fonction de population et après recupérer les 5 premiers.\n",
    "\n",
    "countriesSortedPop=countries.sort_values(by='Population', ascending=False)\n",
    "countries_cinq=countriesSortedPop[0:5]"
   ]
  },
  {
   "cell_type": "code",
   "execution_count": null,
   "id": "8b6602f4",
   "metadata": {},
   "outputs": [],
   "source": [
    "sbn.set_style(\"darkgrid\")                                                                                                          #le style du graphique\n",
    "\n",
    "plt.figure(figsize=(12,12))                                                                                                      #la taille du graphique\n",
    "sbn.barplot(data=countries_cinq, x=\"pays\", y='Population', errorbar=None) \n",
    "\n",
    "plt.title('Population en fonction de la langue')                                                                   #Définir un titre pour notre graphique\n",
    "plt.ylabel('Population')                                                                                                              #Définir un titre pour l'axe des ordonnées\n",
    "plt.xlabel('Pays')   "
   ]
  },
  {
   "cell_type": "code",
   "execution_count": null,
   "id": "1942e6ad",
   "metadata": {},
   "outputs": [],
   "source": [
    "#Diagrammes en barres pour représenter les 5 pays avec les PIB les plus  élevés\n",
    "\n",
    "countriesSortedPib=countries.sort_values(by='pib', ascending=False)\n",
    "countriesSortedPib_cinq=countriesSortedPib[0:5]\n"
   ]
  },
  {
   "cell_type": "code",
   "execution_count": null,
   "id": "b6e4e212",
   "metadata": {},
   "outputs": [],
   "source": [
    "plt.figure(figsize=(12,12))                                                                                                     #la taille du graphique\n",
    "sbn.barplot(data=countriesSortedPib_cinq, x=\"pays\", y='pib', errorbar=None) \n",
    "\n",
    "plt.title('Pays et leur niveau de PIB')                                                                                   #Définir un titre pour notre graphique\n",
    "plt.ylabel('PIB ')                                                                                                                         #Définir un titre pour l'axe des ordonnées\n",
    "plt.xlabel('Pays')   "
   ]
  },
  {
   "cell_type": "markdown",
   "id": "abfbc2f3",
   "metadata": {},
   "source": [
    "# Diagramme en barres "
   ]
  },
  {
   "cell_type": "code",
   "execution_count": 1,
   "id": "7c48bbba",
   "metadata": {},
   "outputs": [],
   "source": [
    "#Diagramme en barres pour comparer le PIB des pays ayant\n",
    "#pour monnaie le Franc CFA d’Afrique centrale (XAF)\n",
    "\n",
    "#Transformation des données\n",
    "countries_xaf=countries[countries['monnaie']=='XAF']\n",
    "countries_xof=countries[countries['monnaie']=='XOF']\n",
    "\n",
    "Pib_total_xaf= sum(countries_xaf['pib'])\n",
    "Pib_total_xof= sum(countries_xof['pib'])\n",
    "\n",
    "\n",
    "paysgroup= {\n",
    "    \n",
    "    \"zone\" : [\"PIB total XOF\", \"PIB total XAF\"],\n",
    "    \"PIB\": [Pib_total_xof, Pib_total_xaf]\n",
    "}\n",
    "\n",
    "#Transformation du dictionnaire çi dessus en DataFrame\n",
    "cumule_pib=pd.DataFrame(paysgroup)\n"
   ]
  },
  {
   "cell_type": "code",
   "execution_count": null,
   "id": "2b14894d",
   "metadata": {},
   "outputs": [],
   "source": [
    "#Réprésentation graphique\n",
    "\n",
    "sbn.barplot(data=cumule_pib, x=\"zone\", y='PIB', errorbar=None)"
   ]
  },
  {
   "cell_type": "code",
   "execution_count": null,
   "id": "46bee625",
   "metadata": {},
   "outputs": [],
   "source": []
  },
  {
   "cell_type": "markdown",
   "id": "7f2e503c",
   "metadata": {},
   "source": [
    "Félicitations d'avoir parcourut ce NoteBook j'espère que avez beaucoup appris concernant la visualisation de données. Alors ce n'est qu'une introduction vous pourriez vous perfectionner en multipliant  les exercices avec autre type de données. En plus n'hésité surtout pas à visité la Page officielle de SEABORN vous trouverez plus de plus de renseignements. "
   ]
  }
 ],
 "metadata": {
  "kernelspec": {
   "display_name": "Python 3 (ipykernel)",
   "language": "python",
   "name": "python3"
  },
  "language_info": {
   "codemirror_mode": {
    "name": "ipython",
    "version": 3
   },
   "file_extension": ".py",
   "mimetype": "text/x-python",
   "name": "python",
   "nbconvert_exporter": "python",
   "pygments_lexer": "ipython3",
   "version": "3.11.3"
  }
 },
 "nbformat": 4,
 "nbformat_minor": 5
}
