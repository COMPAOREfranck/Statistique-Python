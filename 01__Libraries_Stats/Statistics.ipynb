{
 "cells": [
  {
   "cell_type": "markdown",
   "id": "377ae4ee",
   "metadata": {},
   "source": [
    "# BIBLIOTHÈQUE \"statistics\""
   ]
  },
  {
   "cell_type": "markdown",
   "id": "8863d928",
   "metadata": {},
   "source": [
    "Ce module fournit des fonctions pour le calcul de valeurs statistiques sur des données numériques "
   ]
  },
  {
   "cell_type": "code",
   "execution_count": 3,
   "id": "ba63c679",
   "metadata": {},
   "outputs": [],
   "source": [
    "#importation\n",
    "\n",
    "import statistics"
   ]
  },
  {
   "cell_type": "code",
   "execution_count": 2,
   "id": "dc062d7e",
   "metadata": {},
   "outputs": [],
   "source": [
    "#Liste des mesures de taille des plantes (en centimètre )\n",
    "\n",
    "taille_plantes= [25, 30, 28, 35, 32, 29, 31, 27, 33, 26]"
   ]
  },
  {
   "cell_type": "code",
   "execution_count": 7,
   "id": "9d048274",
   "metadata": {},
   "outputs": [
    {
     "name": "stdout",
     "output_type": "stream",
     "text": [
      "La moyenne des tailles des plantes :  29.6\n",
      "La médiane des tailles des plantes :  29.5\n",
      "L'écart-type des tailles des plantes :  3.204163957519444\n"
     ]
    }
   ],
   "source": [
    "#calcul de la moyenne \n",
    "\n",
    "moyenne_tailles= statistics.mean(taille_plantes)\n",
    "print(\"La moyenne des tailles des plantes : \", moyenne_tailles)\n",
    "\n",
    "#calcul de la médiane\n",
    "mediane_tailles= statistics.median(taille_plantes)\n",
    "print(\"La médiane des tailles des plantes : \", mediane_tailles)\n",
    "\n",
    "#Calcul de l'écart type\n",
    "ecart_type_statistics = statistics.stdev(taille_plantes)\n",
    "print(\"L'écart-type des tailles des plantes : \", ecart_type_statistics)"
   ]
  },
  {
   "cell_type": "code",
   "execution_count": 4,
   "id": "6c57526f",
   "metadata": {},
   "outputs": [
    {
     "name": "stdout",
     "output_type": "stream",
     "text": [
      "La moyenne de la température se situe à :  27.88888888888889\n"
     ]
    }
   ],
   "source": [
    "temps={'J1': 26  ,'J2':  32 ,'J3': 30 ,'J4': 29 ,'J5': 38 ,'J6': 22 ,'J7':  27 ,'J8':  23 ,'J9':  24 ,}\n",
    "valeur= temps.values()\n",
    "\n",
    "moyenne= statistics.mean(valeur)\n",
    "print(\"La moyenne de la température se situe à : \", moyenne)\n",
    "\n"
   ]
  },
  {
   "cell_type": "code",
   "execution_count": null,
   "id": "93411459",
   "metadata": {},
   "outputs": [],
   "source": []
  }
 ],
 "metadata": {
  "kernelspec": {
   "display_name": "Python 3 (ipykernel)",
   "language": "python",
   "name": "python3"
  },
  "language_info": {
   "codemirror_mode": {
    "name": "ipython",
    "version": 3
   },
   "file_extension": ".py",
   "mimetype": "text/x-python",
   "name": "python",
   "nbconvert_exporter": "python",
   "pygments_lexer": "ipython3",
   "version": "3.11.3"
  }
 },
 "nbformat": 4,
 "nbformat_minor": 5
}
