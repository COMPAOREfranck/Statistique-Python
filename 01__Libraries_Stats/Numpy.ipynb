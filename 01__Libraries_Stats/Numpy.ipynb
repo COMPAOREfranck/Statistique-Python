{
 "cells": [
  {
   "cell_type": "markdown",
   "id": "6c3e993e",
   "metadata": {},
   "source": [
    "# Manipulation de données avec NumPy"
   ]
  },
  {
   "cell_type": "code",
   "execution_count": 2,
   "id": "86cdc1a0",
   "metadata": {},
   "outputs": [],
   "source": [
    "#Importation de NumPy\n",
    "\n",
    "import numpy as np   # as permet de renommer la bibliothèque"
   ]
  },
  {
   "cell_type": "code",
   "execution_count": 5,
   "id": "c54231e9",
   "metadata": {},
   "outputs": [
    {
     "data": {
      "text/plain": [
       "array([ 1,  6, 11, 16, 21, 26, 31, 36, 41, 46])"
      ]
     },
     "execution_count": 5,
     "metadata": {},
     "output_type": "execute_result"
    }
   ],
   "source": [
    "# Les vecteurs\n",
    "\n",
    "vect= np.array(range(1, 50,5))\n",
    "vect"
   ]
  },
  {
   "cell_type": "code",
   "execution_count": 6,
   "id": "488577f9",
   "metadata": {},
   "outputs": [
    {
     "data": {
      "text/plain": [
       "(10,)"
      ]
     },
     "execution_count": 6,
     "metadata": {},
     "output_type": "execute_result"
    }
   ],
   "source": [
    "#connaître les dimensions \n",
    "vect.shape "
   ]
  },
  {
   "cell_type": "code",
   "execution_count": 8,
   "id": "f64f1e1a",
   "metadata": {},
   "outputs": [
    {
     "data": {
      "text/plain": [
       "array([ 1,  6, 11, 16, 21, 26, 31, 36, 41, 46, 51, 70, 51, 70])"
      ]
     },
     "execution_count": 8,
     "metadata": {},
     "output_type": "execute_result"
    }
   ],
   "source": [
    "#Ajout de valeur\n",
    "\n",
    "vect= np.append(vect,[51, 70] )\n",
    "vect"
   ]
  },
  {
   "cell_type": "code",
   "execution_count": 9,
   "id": "707451f7",
   "metadata": {},
   "outputs": [
    {
     "data": {
      "text/plain": [
       "array([[3, 5, 0],\n",
       "       [1, 8, 4]])"
      ]
     },
     "execution_count": 9,
     "metadata": {},
     "output_type": "execute_result"
    }
   ],
   "source": [
    "#Les Matrices\n",
    "\n",
    "mat=np.array([[3,5,0],[1,8,4]])\n",
    "mat"
   ]
  },
  {
   "cell_type": "code",
   "execution_count": null,
   "id": "341dcc84",
   "metadata": {},
   "outputs": [],
   "source": []
  },
  {
   "cell_type": "markdown",
   "id": "da4ab1f0",
   "metadata": {},
   "source": [
    "# Opérations"
   ]
  },
  {
   "cell_type": "code",
   "execution_count": 14,
   "id": "864f56e5",
   "metadata": {},
   "outputs": [],
   "source": [
    "x=np.array([[3,5,0],[1,8,4]])\n",
    "y=np.array([[4,1,2],[0,3,7]])\n",
    "\n",
    "#addition \n",
    "add_x_y= x+y #\n",
    "sub_x_y=x-y  #\n",
    "mult_x_y= x*y #\n",
    "#div_x_y = x/y"
   ]
  },
  {
   "cell_type": "code",
   "execution_count": null,
   "id": "a9840b1a",
   "metadata": {},
   "outputs": [],
   "source": []
  },
  {
   "cell_type": "markdown",
   "id": "9dc3707f",
   "metadata": {},
   "source": [
    "# Selection d'un élément ou de sous ensemble"
   ]
  },
  {
   "cell_type": "code",
   "execution_count": 19,
   "id": "7d88a5d9",
   "metadata": {},
   "outputs": [
    {
     "data": {
      "text/plain": [
       "array([3, 5, 0])"
      ]
     },
     "execution_count": 19,
     "metadata": {},
     "output_type": "execute_result"
    }
   ],
   "source": [
    "a=x[1,2]\n",
    "a2=x[0] #récupere la première ligne\n",
    "a2\n"
   ]
  },
  {
   "cell_type": "code",
   "execution_count": 21,
   "id": "2b049e72",
   "metadata": {},
   "outputs": [
    {
     "data": {
      "text/plain": [
       "array([4, 0])"
      ]
     },
     "execution_count": 21,
     "metadata": {},
     "output_type": "execute_result"
    }
   ],
   "source": [
    "b=y[:,0] #selectionnne la premiere colone\n",
    "b"
   ]
  },
  {
   "cell_type": "code",
   "execution_count": 22,
   "id": "c16b2b5f",
   "metadata": {},
   "outputs": [
    {
     "data": {
      "text/plain": [
       "array([[1, 8]])"
      ]
     },
     "execution_count": 22,
     "metadata": {},
     "output_type": "execute_result"
    }
   ],
   "source": [
    "c= x[1:,0:2]\n",
    "c\n"
   ]
  },
  {
   "cell_type": "code",
   "execution_count": null,
   "id": "c4f16c8f",
   "metadata": {},
   "outputs": [],
   "source": []
  }
 ],
 "metadata": {
  "kernelspec": {
   "display_name": "Python 3 (ipykernel)",
   "language": "python",
   "name": "python3"
  },
  "language_info": {
   "codemirror_mode": {
    "name": "ipython",
    "version": 3
   },
   "file_extension": ".py",
   "mimetype": "text/x-python",
   "name": "python",
   "nbconvert_exporter": "python",
   "pygments_lexer": "ipython3",
   "version": "3.11.3"
  }
 },
 "nbformat": 4,
 "nbformat_minor": 5
}
