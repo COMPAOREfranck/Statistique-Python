{
 "cells": [
  {
   "cell_type": "code",
   "execution_count": 4,
   "id": "93644782",
   "metadata": {},
   "outputs": [],
   "source": [
    "#Importation de la bibliothèque PANDAS\n",
    "import pandas as pd"
   ]
  },
  {
   "cell_type": "code",
   "execution_count": null,
   "id": "5a9b726f",
   "metadata": {},
   "outputs": [],
   "source": []
  },
  {
   "cell_type": "code",
   "execution_count": 5,
   "id": "3f17670e",
   "metadata": {},
   "outputs": [],
   "source": [
    "#Créons un dictionnaire de données \n",
    "pays= {\n",
    "    \n",
    "    \"Pays\" : [\"Burkina\", \"Cote d'ivoir\", \"Mali\", \"Niger\"],\n",
    "    \"Capitale\": [\"Ouagadougou\", \"Yamoussokro\",\"Bamako\", \"Niamey\"],\n",
    "    \"Superficie\": [274200, 322462, 1240190, 1186408],\n",
    "    \"PIB\": [15, 52, 19, 9]\n",
    "}"
   ]
  },
  {
   "cell_type": "code",
   "execution_count": null,
   "id": "430f5de5",
   "metadata": {},
   "outputs": [],
   "source": []
  },
  {
   "cell_type": "code",
   "execution_count": 7,
   "id": "ab4989ea",
   "metadata": {},
   "outputs": [],
   "source": [
    "#Transformons notre dictionnaire en DataFrame\n",
    "\n",
    "pays=pd.DataFrame(pays)"
   ]
  },
  {
   "cell_type": "code",
   "execution_count": 8,
   "id": "464fe52b",
   "metadata": {},
   "outputs": [
    {
     "data": {
      "text/html": [
       "<div>\n",
       "<style scoped>\n",
       "    .dataframe tbody tr th:only-of-type {\n",
       "        vertical-align: middle;\n",
       "    }\n",
       "\n",
       "    .dataframe tbody tr th {\n",
       "        vertical-align: top;\n",
       "    }\n",
       "\n",
       "    .dataframe thead th {\n",
       "        text-align: right;\n",
       "    }\n",
       "</style>\n",
       "<table border=\"1\" class=\"dataframe\">\n",
       "  <thead>\n",
       "    <tr style=\"text-align: right;\">\n",
       "      <th></th>\n",
       "      <th>Pays</th>\n",
       "      <th>Capitale</th>\n",
       "      <th>Superficie</th>\n",
       "      <th>PIB</th>\n",
       "    </tr>\n",
       "  </thead>\n",
       "  <tbody>\n",
       "    <tr>\n",
       "      <th>0</th>\n",
       "      <td>Burkina</td>\n",
       "      <td>Ouagadougou</td>\n",
       "      <td>274200</td>\n",
       "      <td>15</td>\n",
       "    </tr>\n",
       "    <tr>\n",
       "      <th>1</th>\n",
       "      <td>Cote d'ivoir</td>\n",
       "      <td>Yamoussokro</td>\n",
       "      <td>322462</td>\n",
       "      <td>52</td>\n",
       "    </tr>\n",
       "    <tr>\n",
       "      <th>2</th>\n",
       "      <td>Mali</td>\n",
       "      <td>Bamako</td>\n",
       "      <td>1240190</td>\n",
       "      <td>19</td>\n",
       "    </tr>\n",
       "    <tr>\n",
       "      <th>3</th>\n",
       "      <td>Niger</td>\n",
       "      <td>Niamey</td>\n",
       "      <td>1186408</td>\n",
       "      <td>9</td>\n",
       "    </tr>\n",
       "  </tbody>\n",
       "</table>\n",
       "</div>"
      ],
      "text/plain": [
       "           Pays     Capitale  Superficie  PIB\n",
       "0       Burkina  Ouagadougou      274200   15\n",
       "1  Cote d'ivoir  Yamoussokro      322462   52\n",
       "2          Mali       Bamako     1240190   19\n",
       "3         Niger       Niamey     1186408    9"
      ]
     },
     "execution_count": 8,
     "metadata": {},
     "output_type": "execute_result"
    }
   ],
   "source": [
    "pays"
   ]
  },
  {
   "cell_type": "code",
   "execution_count": 9,
   "id": "fce9caf4",
   "metadata": {},
   "outputs": [
    {
     "name": "stdout",
     "output_type": "stream",
     "text": [
      "Index(['Pays', 'Capitale', 'Superficie', 'PIB'], dtype='object')\n"
     ]
    }
   ],
   "source": [
    "print(pays.columns)"
   ]
  },
  {
   "cell_type": "markdown",
   "id": "df5c8bd7",
   "metadata": {},
   "source": [
    "# Manipulation de DataFrame"
   ]
  },
  {
   "cell_type": "code",
   "execution_count": null,
   "id": "bdd76777",
   "metadata": {},
   "outputs": [],
   "source": []
  },
  {
   "cell_type": "code",
   "execution_count": null,
   "id": "001cc369",
   "metadata": {},
   "outputs": [],
   "source": []
  },
  {
   "cell_type": "code",
   "execution_count": null,
   "id": "8cd937dc",
   "metadata": {},
   "outputs": [],
   "source": []
  },
  {
   "cell_type": "code",
   "execution_count": null,
   "id": "cc9343cc",
   "metadata": {},
   "outputs": [],
   "source": []
  },
  {
   "cell_type": "markdown",
   "id": "8762b44b",
   "metadata": {},
   "source": [
    "# IMPORTATION DE DONNÉES"
   ]
  },
  {
   "cell_type": "code",
   "execution_count": 5,
   "id": "bb8fc6c8",
   "metadata": {},
   "outputs": [
    {
     "data": {
      "text/html": [
       "<div>\n",
       "<style scoped>\n",
       "    .dataframe tbody tr th:only-of-type {\n",
       "        vertical-align: middle;\n",
       "    }\n",
       "\n",
       "    .dataframe tbody tr th {\n",
       "        vertical-align: top;\n",
       "    }\n",
       "\n",
       "    .dataframe thead th {\n",
       "        text-align: right;\n",
       "    }\n",
       "</style>\n",
       "<table border=\"1\" class=\"dataframe\">\n",
       "  <thead>\n",
       "    <tr style=\"text-align: right;\">\n",
       "      <th></th>\n",
       "      <th>pays</th>\n",
       "      <th>drapeau</th>\n",
       "      <th>capitale</th>\n",
       "      <th>Population</th>\n",
       "      <th>Superficie</th>\n",
       "      <th>pib</th>\n",
       "      <th>langue</th>\n",
       "      <th>monnaie</th>\n",
       "    </tr>\n",
       "  </thead>\n",
       "  <tbody>\n",
       "    <tr>\n",
       "      <th>0</th>\n",
       "      <td>Afrique du Sud</td>\n",
       "      <td>🇿🇦</td>\n",
       "      <td>Pretoria</td>\n",
       "      <td>61525521</td>\n",
       "      <td>1219912</td>\n",
       "      <td>419.946</td>\n",
       "      <td>Anglais</td>\n",
       "      <td>ZAR</td>\n",
       "    </tr>\n",
       "    <tr>\n",
       "      <th>1</th>\n",
       "      <td>Algérie</td>\n",
       "      <td>🇩🇿</td>\n",
       "      <td>Alger</td>\n",
       "      <td>44487616</td>\n",
       "      <td>2381741</td>\n",
       "      <td>193.601</td>\n",
       "      <td>Arabe</td>\n",
       "      <td>DZD</td>\n",
       "    </tr>\n",
       "    <tr>\n",
       "      <th>2</th>\n",
       "      <td>Angola</td>\n",
       "      <td>🇦🇴</td>\n",
       "      <td>Luanda</td>\n",
       "      <td>35981281</td>\n",
       "      <td>1246700</td>\n",
       "      <td>175.540</td>\n",
       "      <td>Portugais</td>\n",
       "      <td>AOA</td>\n",
       "    </tr>\n",
       "    <tr>\n",
       "      <th>3</th>\n",
       "      <td>Bénin</td>\n",
       "      <td>🇧🇯</td>\n",
       "      <td>Porto-Novo</td>\n",
       "      <td>13301694</td>\n",
       "      <td>114763</td>\n",
       "      <td>17.140</td>\n",
       "      <td>Français</td>\n",
       "      <td>XOF</td>\n",
       "    </tr>\n",
       "    <tr>\n",
       "      <th>4</th>\n",
       "      <td>Botswana</td>\n",
       "      <td>🇧🇼</td>\n",
       "      <td>Gaborone</td>\n",
       "      <td>2317233</td>\n",
       "      <td>581726</td>\n",
       "      <td>15.780</td>\n",
       "      <td>Anglais</td>\n",
       "      <td>BWP</td>\n",
       "    </tr>\n",
       "    <tr>\n",
       "      <th>5</th>\n",
       "      <td>Burkina Faso</td>\n",
       "      <td>🇧🇫</td>\n",
       "      <td>Ouagadougou</td>\n",
       "      <td>20835401</td>\n",
       "      <td>274400</td>\n",
       "      <td>16.220</td>\n",
       "      <td>Français</td>\n",
       "      <td>XOF</td>\n",
       "    </tr>\n",
       "    <tr>\n",
       "      <th>6</th>\n",
       "      <td>Burundi</td>\n",
       "      <td>🇧🇮</td>\n",
       "      <td>Gitega</td>\n",
       "      <td>11865821</td>\n",
       "      <td>27834</td>\n",
       "      <td>2.780</td>\n",
       "      <td>Français</td>\n",
       "      <td>BIF</td>\n",
       "    </tr>\n",
       "    <tr>\n",
       "      <th>7</th>\n",
       "      <td>Cameroun</td>\n",
       "      <td>🇨🇲</td>\n",
       "      <td>Yaoundé</td>\n",
       "      <td>27744989</td>\n",
       "      <td>475442</td>\n",
       "      <td>40.130</td>\n",
       "      <td>Français</td>\n",
       "      <td>XAF</td>\n",
       "    </tr>\n",
       "    <tr>\n",
       "      <th>8</th>\n",
       "      <td>Comores</td>\n",
       "      <td>🇰🇲</td>\n",
       "      <td>Moroni</td>\n",
       "      <td>936833</td>\n",
       "      <td>2236</td>\n",
       "      <td>1.340</td>\n",
       "      <td>Français</td>\n",
       "      <td>KMF</td>\n",
       "    </tr>\n",
       "    <tr>\n",
       "      <th>9</th>\n",
       "      <td>Congo</td>\n",
       "      <td>🇨🇬</td>\n",
       "      <td>Brazzaville</td>\n",
       "      <td>5400000</td>\n",
       "      <td>342000</td>\n",
       "      <td>14.490</td>\n",
       "      <td>Français</td>\n",
       "      <td>XAF</td>\n",
       "    </tr>\n",
       "  </tbody>\n",
       "</table>\n",
       "</div>"
      ],
      "text/plain": [
       "             pays drapeau     capitale  Population  Superficie      pib  \\\n",
       "0  Afrique du Sud      🇿🇦     Pretoria    61525521     1219912  419.946   \n",
       "1         Algérie      🇩🇿        Alger    44487616     2381741  193.601   \n",
       "2          Angola      🇦🇴       Luanda    35981281     1246700  175.540   \n",
       "3           Bénin      🇧🇯   Porto-Novo    13301694      114763   17.140   \n",
       "4        Botswana      🇧🇼     Gaborone     2317233      581726   15.780   \n",
       "5    Burkina Faso      🇧🇫  Ouagadougou    20835401      274400   16.220   \n",
       "6         Burundi      🇧🇮       Gitega    11865821       27834    2.780   \n",
       "7        Cameroun      🇨🇲      Yaoundé    27744989      475442   40.130   \n",
       "8         Comores      🇰🇲       Moroni      936833        2236    1.340   \n",
       "9           Congo      🇨🇬  Brazzaville     5400000      342000   14.490   \n",
       "\n",
       "      langue monnaie  \n",
       "0    Anglais     ZAR  \n",
       "1      Arabe     DZD  \n",
       "2  Portugais     AOA  \n",
       "3   Français     XOF  \n",
       "4    Anglais     BWP  \n",
       "5   Français     XOF  \n",
       "6   Français     BIF  \n",
       "7   Français     XAF  \n",
       "8   Français     KMF  \n",
       "9   Français     XAF  "
      ]
     },
     "execution_count": 5,
     "metadata": {},
     "output_type": "execute_result"
    }
   ],
   "source": [
    "pays = pd.read_excel('pays_afrique_complet.xlsx')\n",
    "pays.head(10)\n",
    "#pays.tail()"
   ]
  },
  {
   "cell_type": "code",
   "execution_count": 6,
   "id": "12e18ef9",
   "metadata": {},
   "outputs": [
    {
     "data": {
      "text/plain": [
       "(54, 8)"
      ]
     },
     "execution_count": 6,
     "metadata": {},
     "output_type": "execute_result"
    }
   ],
   "source": [
    "pays.shape"
   ]
  },
  {
   "cell_type": "code",
   "execution_count": 7,
   "id": "60485e9b",
   "metadata": {},
   "outputs": [
    {
     "name": "stdout",
     "output_type": "stream",
     "text": [
      "<class 'pandas.core.frame.DataFrame'>\n",
      "RangeIndex: 54 entries, 0 to 53\n",
      "Data columns (total 8 columns):\n",
      " #   Column      Non-Null Count  Dtype  \n",
      "---  ------      --------------  -----  \n",
      " 0   pays        54 non-null     object \n",
      " 1   drapeau     54 non-null     object \n",
      " 2   capitale    54 non-null     object \n",
      " 3   Population  54 non-null     int64  \n",
      " 4   Superficie  54 non-null     int64  \n",
      " 5   pib         54 non-null     float64\n",
      " 6   langue      54 non-null     object \n",
      " 7   monnaie     54 non-null     object \n",
      "dtypes: float64(1), int64(2), object(5)\n",
      "memory usage: 3.5+ KB\n"
     ]
    }
   ],
   "source": [
    "pays.info()"
   ]
  },
  {
   "cell_type": "code",
   "execution_count": 8,
   "id": "57239117",
   "metadata": {},
   "outputs": [
    {
     "data": {
      "text/plain": [
       "pays           object\n",
       "drapeau        object\n",
       "capitale       object\n",
       "Population      int64\n",
       "Superficie      int64\n",
       "pib           float64\n",
       "langue         object\n",
       "monnaie        object\n",
       "dtype: object"
      ]
     },
     "execution_count": 8,
     "metadata": {},
     "output_type": "execute_result"
    }
   ],
   "source": [
    "pays.dtypes"
   ]
  },
  {
   "cell_type": "code",
   "execution_count": 10,
   "id": "2e1dc618",
   "metadata": {},
   "outputs": [
    {
     "data": {
      "text/plain": [
       "'Ouagadougou'"
      ]
     },
     "execution_count": 10,
     "metadata": {},
     "output_type": "execute_result"
    }
   ],
   "source": [
    "#Récupere un enregistrement\n",
    "\n",
    "pays.iloc[5]['capitale'] # affiche la 6e ligne"
   ]
  },
  {
   "cell_type": "code",
   "execution_count": 12,
   "id": "ee6d8575",
   "metadata": {},
   "outputs": [
    {
     "data": {
      "text/plain": [
       "19610769"
      ]
     },
     "execution_count": 12,
     "metadata": {},
     "output_type": "execute_result"
    }
   ],
   "source": [
    "pays.iloc[-2]['Population']"
   ]
  },
  {
   "cell_type": "code",
   "execution_count": 13,
   "id": "c0c8aaa6",
   "metadata": {},
   "outputs": [
    {
     "data": {
      "text/html": [
       "<div>\n",
       "<style scoped>\n",
       "    .dataframe tbody tr th:only-of-type {\n",
       "        vertical-align: middle;\n",
       "    }\n",
       "\n",
       "    .dataframe tbody tr th {\n",
       "        vertical-align: top;\n",
       "    }\n",
       "\n",
       "    .dataframe thead th {\n",
       "        text-align: right;\n",
       "    }\n",
       "</style>\n",
       "<table border=\"1\" class=\"dataframe\">\n",
       "  <thead>\n",
       "    <tr style=\"text-align: right;\">\n",
       "      <th></th>\n",
       "      <th>pays</th>\n",
       "      <th>drapeau</th>\n",
       "      <th>capitale</th>\n",
       "      <th>Population</th>\n",
       "      <th>Superficie</th>\n",
       "      <th>pib</th>\n",
       "      <th>langue</th>\n",
       "      <th>monnaie</th>\n",
       "    </tr>\n",
       "  </thead>\n",
       "  <tbody>\n",
       "    <tr>\n",
       "      <th>10</th>\n",
       "      <td>Congo (Rép. dém.)</td>\n",
       "      <td>🇨🇩</td>\n",
       "      <td>Kinshasa</td>\n",
       "      <td>111859928</td>\n",
       "      <td>2345860</td>\n",
       "      <td>55.35</td>\n",
       "      <td>Français</td>\n",
       "      <td>CDF</td>\n",
       "    </tr>\n",
       "    <tr>\n",
       "      <th>13</th>\n",
       "      <td>Égypte</td>\n",
       "      <td>🇪🇬</td>\n",
       "      <td>Le Caire</td>\n",
       "      <td>102334000</td>\n",
       "      <td>1001450</td>\n",
       "      <td>404.10</td>\n",
       "      <td>Arabe</td>\n",
       "      <td>EGP</td>\n",
       "    </tr>\n",
       "    <tr>\n",
       "      <th>15</th>\n",
       "      <td>Éthiopie</td>\n",
       "      <td>🇪🇹</td>\n",
       "      <td>Addis-Abeba</td>\n",
       "      <td>110871031</td>\n",
       "      <td>1127127</td>\n",
       "      <td>80.87</td>\n",
       "      <td>Amharique</td>\n",
       "      <td>ETB</td>\n",
       "    </tr>\n",
       "    <tr>\n",
       "      <th>36</th>\n",
       "      <td>Nigéria</td>\n",
       "      <td>🇳🇬</td>\n",
       "      <td>Abuja</td>\n",
       "      <td>219463862</td>\n",
       "      <td>923768</td>\n",
       "      <td>440.80</td>\n",
       "      <td>Anglais</td>\n",
       "      <td>NGN</td>\n",
       "    </tr>\n",
       "  </tbody>\n",
       "</table>\n",
       "</div>"
      ],
      "text/plain": [
       "                 pays drapeau     capitale  Population  Superficie     pib  \\\n",
       "10  Congo (Rép. dém.)      🇨🇩     Kinshasa   111859928     2345860   55.35   \n",
       "13             Égypte      🇪🇬     Le Caire   102334000     1001450  404.10   \n",
       "15           Éthiopie      🇪🇹  Addis-Abeba   110871031     1127127   80.87   \n",
       "36            Nigéria      🇳🇬        Abuja   219463862      923768  440.80   \n",
       "\n",
       "       langue monnaie  \n",
       "10   Français     CDF  \n",
       "13      Arabe     EGP  \n",
       "15  Amharique     ETB  \n",
       "36    Anglais     NGN  "
      ]
     },
     "execution_count": 13,
     "metadata": {},
     "output_type": "execute_result"
    }
   ],
   "source": [
    "pays_peupler= pays[pays['Population']>= 100000000]\n",
    "pays_peupler"
   ]
  },
  {
   "cell_type": "code",
   "execution_count": 14,
   "id": "0ff1eb85",
   "metadata": {},
   "outputs": [
    {
     "data": {
      "text/html": [
       "<div>\n",
       "<style scoped>\n",
       "    .dataframe tbody tr th:only-of-type {\n",
       "        vertical-align: middle;\n",
       "    }\n",
       "\n",
       "    .dataframe tbody tr th {\n",
       "        vertical-align: top;\n",
       "    }\n",
       "\n",
       "    .dataframe thead th {\n",
       "        text-align: right;\n",
       "    }\n",
       "</style>\n",
       "<table border=\"1\" class=\"dataframe\">\n",
       "  <thead>\n",
       "    <tr style=\"text-align: right;\">\n",
       "      <th></th>\n",
       "      <th>pays</th>\n",
       "      <th>drapeau</th>\n",
       "      <th>capitale</th>\n",
       "      <th>Population</th>\n",
       "      <th>Superficie</th>\n",
       "      <th>pib</th>\n",
       "      <th>langue</th>\n",
       "      <th>monnaie</th>\n",
       "    </tr>\n",
       "  </thead>\n",
       "  <tbody>\n",
       "    <tr>\n",
       "      <th>2</th>\n",
       "      <td>Angola</td>\n",
       "      <td>🇦🇴</td>\n",
       "      <td>Luanda</td>\n",
       "      <td>35981281</td>\n",
       "      <td>1246700</td>\n",
       "      <td>175.540</td>\n",
       "      <td>Portugais</td>\n",
       "      <td>AOA</td>\n",
       "    </tr>\n",
       "    <tr>\n",
       "      <th>21</th>\n",
       "      <td>Guinée-Bissau</td>\n",
       "      <td>🇬🇼</td>\n",
       "      <td>Bissau</td>\n",
       "      <td>2061000</td>\n",
       "      <td>36125</td>\n",
       "      <td>1.630</td>\n",
       "      <td>Portugais</td>\n",
       "      <td>XOF</td>\n",
       "    </tr>\n",
       "    <tr>\n",
       "      <th>23</th>\n",
       "      <td>Cap-Vert</td>\n",
       "      <td>🇨🇻</td>\n",
       "      <td>Praia</td>\n",
       "      <td>583255</td>\n",
       "      <td>4033</td>\n",
       "      <td>1.704</td>\n",
       "      <td>Portugais</td>\n",
       "      <td>CVE</td>\n",
       "    </tr>\n",
       "    <tr>\n",
       "      <th>33</th>\n",
       "      <td>Mozambique</td>\n",
       "      <td>🇲🇿</td>\n",
       "      <td>Maputo</td>\n",
       "      <td>27233789</td>\n",
       "      <td>801590</td>\n",
       "      <td>15.780</td>\n",
       "      <td>Portugais</td>\n",
       "      <td>MZN</td>\n",
       "    </tr>\n",
       "    <tr>\n",
       "      <th>40</th>\n",
       "      <td>São Tomé et Príncipe</td>\n",
       "      <td>🇸🇹</td>\n",
       "      <td>São Tomé</td>\n",
       "      <td>211122</td>\n",
       "      <td>1001</td>\n",
       "      <td>0.400</td>\n",
       "      <td>Portugais</td>\n",
       "      <td>STD</td>\n",
       "    </tr>\n",
       "  </tbody>\n",
       "</table>\n",
       "</div>"
      ],
      "text/plain": [
       "                    pays drapeau  capitale  Population  Superficie      pib  \\\n",
       "2                 Angola      🇦🇴    Luanda    35981281     1246700  175.540   \n",
       "21         Guinée-Bissau      🇬🇼    Bissau     2061000       36125    1.630   \n",
       "23              Cap-Vert      🇨🇻     Praia      583255        4033    1.704   \n",
       "33            Mozambique      🇲🇿    Maputo    27233789      801590   15.780   \n",
       "40  São Tomé et Príncipe      🇸🇹  São Tomé      211122        1001    0.400   \n",
       "\n",
       "       langue monnaie  \n",
       "2   Portugais     AOA  \n",
       "21  Portugais     XOF  \n",
       "23  Portugais     CVE  \n",
       "33  Portugais     MZN  \n",
       "40  Portugais     STD  "
      ]
     },
     "execution_count": 14,
     "metadata": {},
     "output_type": "execute_result"
    }
   ],
   "source": [
    "#Affichons les pays luxophone (Portugais)\n",
    "pays_portugais=pays[pays['langue']=='Portugais']\n",
    "pays_portugais "
   ]
  },
  {
   "cell_type": "code",
   "execution_count": 15,
   "id": "ac7f70bd",
   "metadata": {},
   "outputs": [
    {
     "data": {
      "text/html": [
       "<div>\n",
       "<style scoped>\n",
       "    .dataframe tbody tr th:only-of-type {\n",
       "        vertical-align: middle;\n",
       "    }\n",
       "\n",
       "    .dataframe tbody tr th {\n",
       "        vertical-align: top;\n",
       "    }\n",
       "\n",
       "    .dataframe thead th {\n",
       "        text-align: right;\n",
       "    }\n",
       "</style>\n",
       "<table border=\"1\" class=\"dataframe\">\n",
       "  <thead>\n",
       "    <tr style=\"text-align: right;\">\n",
       "      <th></th>\n",
       "      <th>pays</th>\n",
       "      <th>drapeau</th>\n",
       "      <th>capitale</th>\n",
       "      <th>Population</th>\n",
       "      <th>Superficie</th>\n",
       "      <th>pib</th>\n",
       "      <th>langue</th>\n",
       "      <th>monnaie</th>\n",
       "    </tr>\n",
       "  </thead>\n",
       "  <tbody>\n",
       "    <tr>\n",
       "      <th>3</th>\n",
       "      <td>Bénin</td>\n",
       "      <td>🇧🇯</td>\n",
       "      <td>Porto-Novo</td>\n",
       "      <td>13301694</td>\n",
       "      <td>114763</td>\n",
       "      <td>17.140</td>\n",
       "      <td>Français</td>\n",
       "      <td>XOF</td>\n",
       "    </tr>\n",
       "    <tr>\n",
       "      <th>5</th>\n",
       "      <td>Burkina Faso</td>\n",
       "      <td>🇧🇫</td>\n",
       "      <td>Ouagadougou</td>\n",
       "      <td>20835401</td>\n",
       "      <td>274400</td>\n",
       "      <td>16.220</td>\n",
       "      <td>Français</td>\n",
       "      <td>XOF</td>\n",
       "    </tr>\n",
       "    <tr>\n",
       "      <th>11</th>\n",
       "      <td>Côte d'Ivoire</td>\n",
       "      <td>🇨🇮</td>\n",
       "      <td>Yamoussoukro</td>\n",
       "      <td>29389150</td>\n",
       "      <td>322462</td>\n",
       "      <td>61.502</td>\n",
       "      <td>Français</td>\n",
       "      <td>XOF</td>\n",
       "    </tr>\n",
       "    <tr>\n",
       "      <th>30</th>\n",
       "      <td>Mali</td>\n",
       "      <td>🇲🇱</td>\n",
       "      <td>Bamako</td>\n",
       "      <td>21726000</td>\n",
       "      <td>1241238</td>\n",
       "      <td>17.163</td>\n",
       "      <td>Français</td>\n",
       "      <td>XOF</td>\n",
       "    </tr>\n",
       "    <tr>\n",
       "      <th>35</th>\n",
       "      <td>Niger</td>\n",
       "      <td>🇳🇪</td>\n",
       "      <td>Niamey</td>\n",
       "      <td>22772361</td>\n",
       "      <td>1267000</td>\n",
       "      <td>14.920</td>\n",
       "      <td>Français</td>\n",
       "      <td>XOF</td>\n",
       "    </tr>\n",
       "    <tr>\n",
       "      <th>41</th>\n",
       "      <td>Sénégal</td>\n",
       "      <td>🇸🇳</td>\n",
       "      <td>Dakar</td>\n",
       "      <td>16209125</td>\n",
       "      <td>196722</td>\n",
       "      <td>27.630</td>\n",
       "      <td>Français</td>\n",
       "      <td>XOF</td>\n",
       "    </tr>\n",
       "    <tr>\n",
       "      <th>50</th>\n",
       "      <td>Togo</td>\n",
       "      <td>🇹🇬</td>\n",
       "      <td>Lomé</td>\n",
       "      <td>8608444</td>\n",
       "      <td>56785</td>\n",
       "      <td>8.413</td>\n",
       "      <td>Français</td>\n",
       "      <td>XOF</td>\n",
       "    </tr>\n",
       "  </tbody>\n",
       "</table>\n",
       "</div>"
      ],
      "text/plain": [
       "             pays drapeau      capitale  Population  Superficie     pib  \\\n",
       "3           Bénin      🇧🇯    Porto-Novo    13301694      114763  17.140   \n",
       "5    Burkina Faso      🇧🇫   Ouagadougou    20835401      274400  16.220   \n",
       "11  Côte d'Ivoire      🇨🇮  Yamoussoukro    29389150      322462  61.502   \n",
       "30           Mali      🇲🇱        Bamako    21726000     1241238  17.163   \n",
       "35          Niger      🇳🇪        Niamey    22772361     1267000  14.920   \n",
       "41        Sénégal      🇸🇳         Dakar    16209125      196722  27.630   \n",
       "50           Togo      🇹🇬          Lomé     8608444       56785   8.413   \n",
       "\n",
       "      langue monnaie  \n",
       "3   Français     XOF  \n",
       "5   Français     XOF  \n",
       "11  Français     XOF  \n",
       "30  Français     XOF  \n",
       "35  Français     XOF  \n",
       "41  Français     XOF  \n",
       "50  Français     XOF  "
      ]
     },
     "execution_count": 15,
     "metadata": {},
     "output_type": "execute_result"
    }
   ],
   "source": [
    "pays_cfa_fr= pays[(pays['monnaie']=='XOF') & (pays['langue']=='Français')]\n",
    "pays_cfa_fr"
   ]
  },
  {
   "cell_type": "code",
   "execution_count": 16,
   "id": "eaa9d7f2",
   "metadata": {},
   "outputs": [
    {
     "data": {
      "text/html": [
       "<div>\n",
       "<style scoped>\n",
       "    .dataframe tbody tr th:only-of-type {\n",
       "        vertical-align: middle;\n",
       "    }\n",
       "\n",
       "    .dataframe tbody tr th {\n",
       "        vertical-align: top;\n",
       "    }\n",
       "\n",
       "    .dataframe thead th {\n",
       "        text-align: right;\n",
       "    }\n",
       "</style>\n",
       "<table border=\"1\" class=\"dataframe\">\n",
       "  <thead>\n",
       "    <tr style=\"text-align: right;\">\n",
       "      <th></th>\n",
       "      <th>pays</th>\n",
       "      <th>drapeau</th>\n",
       "      <th>capitale</th>\n",
       "      <th>Population</th>\n",
       "      <th>Superficie</th>\n",
       "      <th>pib</th>\n",
       "      <th>langue</th>\n",
       "      <th>monnaie</th>\n",
       "    </tr>\n",
       "  </thead>\n",
       "  <tbody>\n",
       "    <tr>\n",
       "      <th>1</th>\n",
       "      <td>Algérie</td>\n",
       "      <td>🇩🇿</td>\n",
       "      <td>Alger</td>\n",
       "      <td>44487616</td>\n",
       "      <td>2381741</td>\n",
       "      <td>193.601</td>\n",
       "      <td>Arabe</td>\n",
       "      <td>DZD</td>\n",
       "    </tr>\n",
       "    <tr>\n",
       "      <th>10</th>\n",
       "      <td>Congo (Rép. dém.)</td>\n",
       "      <td>🇨🇩</td>\n",
       "      <td>Kinshasa</td>\n",
       "      <td>111859928</td>\n",
       "      <td>2345860</td>\n",
       "      <td>55.350</td>\n",
       "      <td>Français</td>\n",
       "      <td>CDF</td>\n",
       "    </tr>\n",
       "    <tr>\n",
       "      <th>45</th>\n",
       "      <td>Soudan</td>\n",
       "      <td>🇸🇩</td>\n",
       "      <td>Khartoum</td>\n",
       "      <td>43120843</td>\n",
       "      <td>1886068</td>\n",
       "      <td>34.330</td>\n",
       "      <td>Arabe</td>\n",
       "      <td>SDG</td>\n",
       "    </tr>\n",
       "    <tr>\n",
       "      <th>27</th>\n",
       "      <td>Libye</td>\n",
       "      <td>🇱🇾</td>\n",
       "      <td>Tripoli</td>\n",
       "      <td>6890535</td>\n",
       "      <td>1759540</td>\n",
       "      <td>42.820</td>\n",
       "      <td>Arabe</td>\n",
       "      <td>LYD</td>\n",
       "    </tr>\n",
       "    <tr>\n",
       "      <th>49</th>\n",
       "      <td>Tchad</td>\n",
       "      <td>🇹🇩</td>\n",
       "      <td>N'Djamena</td>\n",
       "      <td>15946882</td>\n",
       "      <td>1284000</td>\n",
       "      <td>11.780</td>\n",
       "      <td>Français</td>\n",
       "      <td>XAF</td>\n",
       "    </tr>\n",
       "  </tbody>\n",
       "</table>\n",
       "</div>"
      ],
      "text/plain": [
       "                 pays drapeau   capitale  Population  Superficie      pib  \\\n",
       "1             Algérie      🇩🇿      Alger    44487616     2381741  193.601   \n",
       "10  Congo (Rép. dém.)      🇨🇩   Kinshasa   111859928     2345860   55.350   \n",
       "45             Soudan      🇸🇩   Khartoum    43120843     1886068   34.330   \n",
       "27              Libye      🇱🇾    Tripoli     6890535     1759540   42.820   \n",
       "49              Tchad      🇹🇩  N'Djamena    15946882     1284000   11.780   \n",
       "\n",
       "      langue monnaie  \n",
       "1      Arabe     DZD  \n",
       "10  Français     CDF  \n",
       "45     Arabe     SDG  \n",
       "27     Arabe     LYD  \n",
       "49  Français     XAF  "
      ]
     },
     "execution_count": 16,
     "metadata": {},
     "output_type": "execute_result"
    }
   ],
   "source": [
    "#Ordonnée les pays par superficie\n",
    "\n",
    "paysorted=pays.sort_values(by='Superficie', ascending=False)\n",
    "paysorted.head()"
   ]
  },
  {
   "cell_type": "markdown",
   "id": "805cab02",
   "metadata": {},
   "source": [
    "# Statistique descriptive avec Pandas"
   ]
  },
  {
   "cell_type": "code",
   "execution_count": 17,
   "id": "8a6f9402",
   "metadata": {},
   "outputs": [
    {
     "name": "stdout",
     "output_type": "stream",
     "text": [
      "PIB moyen:  50.88592592592593\n",
      "La médiane du PIB  :  15.35\n",
      "PIB max :  440.8\n",
      "PIB min :  0.4\n",
      "Plage du PIB : 440.40000000000003\n",
      "Variance du PIB  :  9875.81782674913\n",
      "Ecart-type du PIB : 99.37714941951761\n"
     ]
    }
   ],
   "source": [
    "#Stats\n",
    "\n",
    "\n",
    "\n",
    "print(\"PIB moyen: \", pays['pib'].mean())\n",
    "print(\"La médiane du PIB  : \", pays['pib'].median())\n",
    "print(\"PIB max : \", pays['pib'].max())\n",
    "print(\"PIB min : \", pays['pib'].min())\n",
    "\n",
    "plage_pib=pays['pib'].max()- pays['pib'].min()\n",
    "\n",
    "print(\"Plage du PIB :\", plage_pib)\n",
    "print(\"Variance du PIB  : \", pays['pib'].var())\n",
    "print(\"Ecart-type du PIB :\", pays['pib'].std())"
   ]
  },
  {
   "cell_type": "code",
   "execution_count": 18,
   "id": "de9810f9",
   "metadata": {},
   "outputs": [
    {
     "data": {
      "text/html": [
       "<div>\n",
       "<style scoped>\n",
       "    .dataframe tbody tr th:only-of-type {\n",
       "        vertical-align: middle;\n",
       "    }\n",
       "\n",
       "    .dataframe tbody tr th {\n",
       "        vertical-align: top;\n",
       "    }\n",
       "\n",
       "    .dataframe thead th {\n",
       "        text-align: right;\n",
       "    }\n",
       "</style>\n",
       "<table border=\"1\" class=\"dataframe\">\n",
       "  <thead>\n",
       "    <tr style=\"text-align: right;\">\n",
       "      <th></th>\n",
       "      <th>Population</th>\n",
       "      <th>Superficie</th>\n",
       "      <th>pib</th>\n",
       "    </tr>\n",
       "  </thead>\n",
       "  <tbody>\n",
       "    <tr>\n",
       "      <th>count</th>\n",
       "      <td>5.400000e+01</td>\n",
       "      <td>5.400000e+01</td>\n",
       "      <td>54.000000</td>\n",
       "    </tr>\n",
       "    <tr>\n",
       "      <th>mean</th>\n",
       "      <td>2.561317e+07</td>\n",
       "      <td>5.569692e+05</td>\n",
       "      <td>50.885926</td>\n",
       "    </tr>\n",
       "    <tr>\n",
       "      <th>std</th>\n",
       "      <td>3.782588e+07</td>\n",
       "      <td>6.040768e+05</td>\n",
       "      <td>99.377149</td>\n",
       "    </tr>\n",
       "    <tr>\n",
       "      <th>min</th>\n",
       "      <td>9.846200e+04</td>\n",
       "      <td>4.550000e+02</td>\n",
       "      <td>0.400000</td>\n",
       "    </tr>\n",
       "    <tr>\n",
       "      <th>25%</th>\n",
       "      <td>2.859055e+06</td>\n",
       "      <td>6.052375e+04</td>\n",
       "      <td>5.464250</td>\n",
       "    </tr>\n",
       "    <tr>\n",
       "      <th>50%</th>\n",
       "      <td>1.359371e+07</td>\n",
       "      <td>3.322310e+05</td>\n",
       "      <td>15.350000</td>\n",
       "    </tr>\n",
       "    <tr>\n",
       "      <th>75%</th>\n",
       "      <td>2.897811e+07</td>\n",
       "      <td>8.991805e+05</td>\n",
       "      <td>40.087500</td>\n",
       "    </tr>\n",
       "    <tr>\n",
       "      <th>max</th>\n",
       "      <td>2.194639e+08</td>\n",
       "      <td>2.381741e+06</td>\n",
       "      <td>440.800000</td>\n",
       "    </tr>\n",
       "  </tbody>\n",
       "</table>\n",
       "</div>"
      ],
      "text/plain": [
       "         Population    Superficie         pib\n",
       "count  5.400000e+01  5.400000e+01   54.000000\n",
       "mean   2.561317e+07  5.569692e+05   50.885926\n",
       "std    3.782588e+07  6.040768e+05   99.377149\n",
       "min    9.846200e+04  4.550000e+02    0.400000\n",
       "25%    2.859055e+06  6.052375e+04    5.464250\n",
       "50%    1.359371e+07  3.322310e+05   15.350000\n",
       "75%    2.897811e+07  8.991805e+05   40.087500\n",
       "max    2.194639e+08  2.381741e+06  440.800000"
      ]
     },
     "execution_count": 18,
     "metadata": {},
     "output_type": "execute_result"
    }
   ],
   "source": [
    "pays.describe()"
   ]
  },
  {
   "cell_type": "code",
   "execution_count": 19,
   "id": "05286ef8",
   "metadata": {},
   "outputs": [
    {
     "data": {
      "text/html": [
       "<div>\n",
       "<style scoped>\n",
       "    .dataframe tbody tr th:only-of-type {\n",
       "        vertical-align: middle;\n",
       "    }\n",
       "\n",
       "    .dataframe tbody tr th {\n",
       "        vertical-align: top;\n",
       "    }\n",
       "\n",
       "    .dataframe thead th {\n",
       "        text-align: right;\n",
       "    }\n",
       "</style>\n",
       "<table border=\"1\" class=\"dataframe\">\n",
       "  <thead>\n",
       "    <tr style=\"text-align: right;\">\n",
       "      <th></th>\n",
       "      <th>pays</th>\n",
       "      <th>drapeau</th>\n",
       "      <th>capitale</th>\n",
       "      <th>langue</th>\n",
       "      <th>monnaie</th>\n",
       "    </tr>\n",
       "  </thead>\n",
       "  <tbody>\n",
       "    <tr>\n",
       "      <th>count</th>\n",
       "      <td>54</td>\n",
       "      <td>54</td>\n",
       "      <td>54</td>\n",
       "      <td>54</td>\n",
       "      <td>54</td>\n",
       "    </tr>\n",
       "    <tr>\n",
       "      <th>unique</th>\n",
       "      <td>54</td>\n",
       "      <td>54</td>\n",
       "      <td>54</td>\n",
       "      <td>7</td>\n",
       "      <td>42</td>\n",
       "    </tr>\n",
       "    <tr>\n",
       "      <th>top</th>\n",
       "      <td>Afrique du Sud</td>\n",
       "      <td>🇿🇦</td>\n",
       "      <td>Pretoria</td>\n",
       "      <td>Anglais</td>\n",
       "      <td>XOF</td>\n",
       "    </tr>\n",
       "    <tr>\n",
       "      <th>freq</th>\n",
       "      <td>1</td>\n",
       "      <td>1</td>\n",
       "      <td>1</td>\n",
       "      <td>20</td>\n",
       "      <td>8</td>\n",
       "    </tr>\n",
       "  </tbody>\n",
       "</table>\n",
       "</div>"
      ],
      "text/plain": [
       "                  pays drapeau  capitale   langue monnaie\n",
       "count               54      54        54       54      54\n",
       "unique              54      54        54        7      42\n",
       "top     Afrique du Sud      🇿🇦  Pretoria  Anglais     XOF\n",
       "freq                 1       1         1       20       8"
      ]
     },
     "execution_count": 19,
     "metadata": {},
     "output_type": "execute_result"
    }
   ],
   "source": [
    "pays.describe(include=object)"
   ]
  },
  {
   "cell_type": "code",
   "execution_count": 36,
   "id": "8e674607",
   "metadata": {},
   "outputs": [
    {
     "data": {
      "text/plain": [
       "pays          54\n",
       "drapeau       54\n",
       "capitale      54\n",
       "Population    54\n",
       "Superficie    54\n",
       "pib           54\n",
       "langue        54\n",
       "monnaie       54\n",
       "dtype: int64"
      ]
     },
     "execution_count": 36,
     "metadata": {},
     "output_type": "execute_result"
    }
   ],
   "source": [
    "#Afficher le nombre de pays\n",
    "\n",
    "pays.count()"
   ]
  },
  {
   "cell_type": "code",
   "execution_count": 44,
   "id": "68fdd097",
   "metadata": {},
   "outputs": [
    {
     "data": {
      "text/plain": [
       "54"
      ]
     },
     "execution_count": 44,
     "metadata": {},
     "output_type": "execute_result"
    }
   ],
   "source": [
    "pays['pays'].count()"
   ]
  },
  {
   "cell_type": "code",
   "execution_count": 54,
   "id": "6456aa53",
   "metadata": {},
   "outputs": [
    {
     "data": {
      "text/plain": [
       "'Nigéria'"
      ]
     },
     "execution_count": 54,
     "metadata": {},
     "output_type": "execute_result"
    }
   ],
   "source": [
    "#Fonction Idxmax renvoie les indice des lignes maximale de chaque colone et on recupere avec ILOC \n",
    "\n",
    "m=pays['Population'].idxmax()\n",
    "pays.iloc[m]\n",
    "\n",
    "pays.iloc[m]['pays']"
   ]
  },
  {
   "cell_type": "code",
   "execution_count": 41,
   "id": "f6e57e79",
   "metadata": {},
   "outputs": [
    {
     "data": {
      "text/plain": [
       "36    Nigéria\n",
       "Name: pays, dtype: object"
      ]
     },
     "execution_count": 41,
     "metadata": {},
     "output_type": "execute_result"
    }
   ],
   "source": [
    "#pays le plus peuplé \n",
    "\n",
    "pays[pays['Population']== pays['Population'].max()]['pays']"
   ]
  },
  {
   "cell_type": "markdown",
   "id": "b66cb6d8",
   "metadata": {},
   "source": [
    "Nigéria est le pays le plus peuplé de l'Afrique avec une population de 219463862 habitants !"
   ]
  },
  {
   "cell_type": "code",
   "execution_count": 38,
   "id": "39df37e4",
   "metadata": {},
   "outputs": [
    {
     "data": {
      "text/plain": [
       "42    Seychelles\n",
       "Name: pays, dtype: object"
      ]
     },
     "execution_count": 38,
     "metadata": {},
     "output_type": "execute_result"
    }
   ],
   "source": [
    "#pays le plus peuplé \n",
    "\n",
    "pays[pays['Population']== pays['Population'].min()]['pays']"
   ]
  },
  {
   "cell_type": "markdown",
   "id": "9e63a784",
   "metadata": {},
   "source": [
    "Par contre Seychelles est le moins peuplé avec une population de 98462\t habitants"
   ]
  },
  {
   "cell_type": "code",
   "execution_count": 23,
   "id": "95e04a30",
   "metadata": {},
   "outputs": [
    {
     "name": "stdout",
     "output_type": "stream",
     "text": [
      "Population moyenne:  25613167.444444444\n",
      "La médiane de la Population  :  13593709.0\n"
     ]
    }
   ],
   "source": [
    "\n",
    "print(\"Population moyenne: \", pays['Population'].mean())\n",
    "print(\"La médiane de la Population  : \", pays['Population'].median())"
   ]
  },
  {
   "cell_type": "code",
   "execution_count": 60,
   "id": "8190b464",
   "metadata": {},
   "outputs": [
    {
     "data": {
      "text/plain": [
       "'Anglais'"
      ]
     },
     "execution_count": 60,
     "metadata": {},
     "output_type": "execute_result"
    }
   ],
   "source": [
    "#langue la plus parlé\n",
    "\n",
    "pays['langue'].value_counts()                                 #nous renvois chaque langue avec le nombre d'occurence \n",
    "pays['langue'].value_counts().idxmax()             #récupére là  le nom de la langue\n"
   ]
  },
  {
   "cell_type": "code",
   "execution_count": 58,
   "id": "cb6317d4",
   "metadata": {},
   "outputs": [
    {
     "name": "stdout",
     "output_type": "stream",
     "text": [
      "La moyenne de la population anglaise  :  28906502.2\n"
     ]
    }
   ],
   "source": [
    "#Population moyenne des pays anglophones\n",
    "\n",
    "pays_anglais=pays[pays['langue']=='Anglais']\n",
    "\n",
    "print(\"La moyenne de la population anglaise  : \", pays_anglais ['Population'].mean())"
   ]
  },
  {
   "cell_type": "code",
   "execution_count": 63,
   "id": "ef3cb20d",
   "metadata": {},
   "outputs": [
    {
     "name": "stdout",
     "output_type": "stream",
     "text": [
      "61.502\n",
      "1.63\n"
     ]
    }
   ],
   "source": [
    "#PIB  le plus et le moins élvevé des pays de XOF\n",
    "\n",
    "\n",
    "pays_xof=pays[pays['monnaie']=='XOF']\n",
    "print ( pays_xof['pib'].max())\n",
    "print( pays_xof['pib'].min())"
   ]
  },
  {
   "cell_type": "code",
   "execution_count": 64,
   "id": "8bfd3af7",
   "metadata": {},
   "outputs": [
    {
     "data": {
      "text/html": [
       "<div>\n",
       "<style scoped>\n",
       "    .dataframe tbody tr th:only-of-type {\n",
       "        vertical-align: middle;\n",
       "    }\n",
       "\n",
       "    .dataframe tbody tr th {\n",
       "        vertical-align: top;\n",
       "    }\n",
       "\n",
       "    .dataframe thead th {\n",
       "        text-align: right;\n",
       "    }\n",
       "</style>\n",
       "<table border=\"1\" class=\"dataframe\">\n",
       "  <thead>\n",
       "    <tr style=\"text-align: right;\">\n",
       "      <th></th>\n",
       "      <th>pays</th>\n",
       "      <th>drapeau</th>\n",
       "      <th>capitale</th>\n",
       "      <th>Population</th>\n",
       "      <th>Superficie</th>\n",
       "      <th>pib</th>\n",
       "      <th>langue</th>\n",
       "      <th>monnaie</th>\n",
       "    </tr>\n",
       "  </thead>\n",
       "  <tbody>\n",
       "    <tr>\n",
       "      <th>11</th>\n",
       "      <td>Côte d'Ivoire</td>\n",
       "      <td>🇨🇮</td>\n",
       "      <td>Yamoussoukro</td>\n",
       "      <td>29389150</td>\n",
       "      <td>322462</td>\n",
       "      <td>61.502</td>\n",
       "      <td>Français</td>\n",
       "      <td>XOF</td>\n",
       "    </tr>\n",
       "  </tbody>\n",
       "</table>\n",
       "</div>"
      ],
      "text/plain": [
       "             pays drapeau      capitale  Population  Superficie     pib  \\\n",
       "11  Côte d'Ivoire      🇨🇮  Yamoussoukro    29389150      322462  61.502   \n",
       "\n",
       "      langue monnaie  \n",
       "11  Français     XOF  "
      ]
     },
     "execution_count": 64,
     "metadata": {},
     "output_type": "execute_result"
    }
   ],
   "source": [
    "#PIB  le plus élvevé des pays de XOF\n",
    "pays_xof[pays_xof['pib']== pays_xof['pib'].max()]"
   ]
  },
  {
   "cell_type": "code",
   "execution_count": 66,
   "id": "3b826ce4",
   "metadata": {},
   "outputs": [
    {
     "name": "stdout",
     "output_type": "stream",
     "text": [
      "Les pays anglophones ont le pib moyen le plus élévé \n"
     ]
    }
   ],
   "source": [
    "#Comparaison de PIB moyen entre les pays anglophone et francophone\n",
    "pays_franco=pays[pays['langue']=='Français']\n",
    "\n",
    "\n",
    "if  pays_franco['pib'].mean() < pays_anglais['pib'].mean() :\n",
    "    print(\"Les pays anglophones ont le pib moyen le plus élévé \")\n",
    "else :\n",
    "    print(\"Les pays francophones ont le pib moyen le plus élévé \")"
   ]
  },
  {
   "cell_type": "code",
   "execution_count": 29,
   "id": "67266ca0",
   "metadata": {},
   "outputs": [
    {
     "name": "stdout",
     "output_type": "stream",
     "text": [
      "Le PIB total pour la zone XOF :  164.618\n",
      "Le PIB total pour la zone XAF :  98.03900000000002\n"
     ]
    }
   ],
   "source": [
    "#Comparaison de PIB  total entre la zone XOF(Afrique de l'ouest) et XAF (Afrique central)\n",
    "pays_xaf=pays[pays['monnaie']=='XAF']\n",
    "\n",
    "pib_total_xof= sum(pays_xof['pib'])\n",
    "pib_total_xaf= sum(pays_xaf['pib'])\n",
    "\n",
    "\n",
    "print (\"Le PIB total pour la zone XOF : \", pib_total_xof)\n",
    "print (\"Le PIB total pour la zone XAF : \", pib_total_xaf)"
   ]
  },
  {
   "cell_type": "code",
   "execution_count": 30,
   "id": "b283227b",
   "metadata": {},
   "outputs": [
    {
     "name": "stdout",
     "output_type": "stream",
     "text": [
      "La Population total pour la zone XOF :  134903175\n",
      "Le Population total pour la zone XAF :  58332011\n"
     ]
    }
   ],
   "source": [
    "#Comparaison de Population  entre la zone XOF(Afrique de l'ouest) et XAF (Afrique central)\n",
    "\n",
    "pop_total_xof= sum(pays_xof['Population'])\n",
    "pop_total_xaf= sum(pays_xaf['Population'])\n",
    "\n",
    "print (\"La Population total pour la zone XOF : \", pop_total_xof)\n",
    "print (\"Le Population total pour la zone XAF : \", pop_total_xaf)\n"
   ]
  },
  {
   "cell_type": "markdown",
   "id": "a1ab4a96",
   "metadata": {},
   "source": [
    "L'Afrique de l'ouest est plus peuplé de l'Afrique centrale"
   ]
  },
  {
   "cell_type": "code",
   "execution_count": 31,
   "id": "2616fdbc",
   "metadata": {},
   "outputs": [
    {
     "name": "stdout",
     "output_type": "stream",
     "text": [
      "Le PIB par habitant pour la zone XOF :  1.2202677957727828e-06\n",
      "Le PIB par habitant pour la zone XAF :  1.6807066706477857e-06\n"
     ]
    }
   ],
   "source": [
    "#  Comparaison de PIB /Habitant  entre la zone XOF(Afrique de l'ouest) et XAF (Afrique central)\n",
    "\n",
    "pib_h_xof= pib_total_xof/pop_total_xof\n",
    "pib_h_xaf= pib_total_xaf/pop_total_xaf\n",
    "\n",
    "print(\"Le PIB par habitant pour la zone XOF : \", pib_h_xof)\n",
    "print(\"Le PIB par habitant pour la zone XAF : \", pib_h_xaf)"
   ]
  },
  {
   "cell_type": "markdown",
   "id": "efeb8651",
   "metadata": {},
   "source": [
    "Le PIB/Habitant est légèrement élevé en centrale qu'en Afrique de l'Ouest."
   ]
  },
  {
   "cell_type": "code",
   "execution_count": null,
   "id": "10c71148",
   "metadata": {},
   "outputs": [],
   "source": []
  }
 ],
 "metadata": {
  "kernelspec": {
   "display_name": "Python 3 (ipykernel)",
   "language": "python",
   "name": "python3"
  },
  "language_info": {
   "codemirror_mode": {
    "name": "ipython",
    "version": 3
   },
   "file_extension": ".py",
   "mimetype": "text/x-python",
   "name": "python",
   "nbconvert_exporter": "python",
   "pygments_lexer": "ipython3",
   "version": "3.11.3"
  }
 },
 "nbformat": 4,
 "nbformat_minor": 5
}
